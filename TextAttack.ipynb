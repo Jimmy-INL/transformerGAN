{
  "nbformat": 4,
  "nbformat_minor": 0,
  "metadata": {
    "colab": {
      "name": "TextAttack.ipynb",
      "provenance": [],
      "collapsed_sections": [],
      "mount_file_id": "1lnBKEIWabeiY-ulhsm3Bqba6bl-iat_Q",
      "authorship_tag": "ABX9TyO/saUcDRkIbe0yt9/JgLiI"
    },
    "kernelspec": {
      "name": "python3",
      "display_name": "Python 3"
    },
    "accelerator": "GPU",
    "widgets": {
      "application/vnd.jupyter.widget-state+json": {
        "47397d71744f40a7a30eb28e8bafbe88": {
          "model_module": "@jupyter-widgets/controls",
          "model_name": "HBoxModel",
          "state": {
            "_view_name": "HBoxView",
            "_dom_classes": [],
            "_model_name": "HBoxModel",
            "_view_module": "@jupyter-widgets/controls",
            "_model_module_version": "1.5.0",
            "_view_count": null,
            "_view_module_version": "1.5.0",
            "box_style": "",
            "layout": "IPY_MODEL_1533a1318c7647619ff9e2d422442bcb",
            "_model_module": "@jupyter-widgets/controls",
            "children": [
              "IPY_MODEL_8e84b36a8a664ca592ebac798bff87d1",
              "IPY_MODEL_2ffa7ef8465e4acd9754996b2a443e75"
            ]
          }
        },
        "1533a1318c7647619ff9e2d422442bcb": {
          "model_module": "@jupyter-widgets/base",
          "model_name": "LayoutModel",
          "state": {
            "_view_name": "LayoutView",
            "grid_template_rows": null,
            "right": null,
            "justify_content": null,
            "_view_module": "@jupyter-widgets/base",
            "overflow": null,
            "_model_module_version": "1.2.0",
            "_view_count": null,
            "flex_flow": null,
            "width": null,
            "min_width": null,
            "border": null,
            "align_items": null,
            "bottom": null,
            "_model_module": "@jupyter-widgets/base",
            "top": null,
            "grid_column": null,
            "overflow_y": null,
            "overflow_x": null,
            "grid_auto_flow": null,
            "grid_area": null,
            "grid_template_columns": null,
            "flex": null,
            "_model_name": "LayoutModel",
            "justify_items": null,
            "grid_row": null,
            "max_height": null,
            "align_content": null,
            "visibility": null,
            "align_self": null,
            "height": null,
            "min_height": null,
            "padding": null,
            "grid_auto_rows": null,
            "grid_gap": null,
            "max_width": null,
            "order": null,
            "_view_module_version": "1.2.0",
            "grid_template_areas": null,
            "object_position": null,
            "object_fit": null,
            "grid_auto_columns": null,
            "margin": null,
            "display": null,
            "left": null
          }
        },
        "8e84b36a8a664ca592ebac798bff87d1": {
          "model_module": "@jupyter-widgets/controls",
          "model_name": "FloatProgressModel",
          "state": {
            "_view_name": "ProgressView",
            "style": "IPY_MODEL_c436708d8bd240539ac693a0f9ebda4e",
            "_dom_classes": [],
            "description": "Downloading: 100%",
            "_model_name": "FloatProgressModel",
            "bar_style": "success",
            "max": 433,
            "_view_module": "@jupyter-widgets/controls",
            "_model_module_version": "1.5.0",
            "value": 433,
            "_view_count": null,
            "_view_module_version": "1.5.0",
            "orientation": "horizontal",
            "min": 0,
            "description_tooltip": null,
            "_model_module": "@jupyter-widgets/controls",
            "layout": "IPY_MODEL_0ed6cc0b7f78482cb28225b090da4b9b"
          }
        },
        "2ffa7ef8465e4acd9754996b2a443e75": {
          "model_module": "@jupyter-widgets/controls",
          "model_name": "HTMLModel",
          "state": {
            "_view_name": "HTMLView",
            "style": "IPY_MODEL_a193f649cb754c0ca91680af87b9a52d",
            "_dom_classes": [],
            "description": "",
            "_model_name": "HTMLModel",
            "placeholder": "​",
            "_view_module": "@jupyter-widgets/controls",
            "_model_module_version": "1.5.0",
            "value": " 433/433 [00:01&lt;00:00, 258B/s]",
            "_view_count": null,
            "_view_module_version": "1.5.0",
            "description_tooltip": null,
            "_model_module": "@jupyter-widgets/controls",
            "layout": "IPY_MODEL_1090518efa284e339568b03c54451fdf"
          }
        },
        "c436708d8bd240539ac693a0f9ebda4e": {
          "model_module": "@jupyter-widgets/controls",
          "model_name": "ProgressStyleModel",
          "state": {
            "_view_name": "StyleView",
            "_model_name": "ProgressStyleModel",
            "description_width": "initial",
            "_view_module": "@jupyter-widgets/base",
            "_model_module_version": "1.5.0",
            "_view_count": null,
            "_view_module_version": "1.2.0",
            "bar_color": null,
            "_model_module": "@jupyter-widgets/controls"
          }
        },
        "0ed6cc0b7f78482cb28225b090da4b9b": {
          "model_module": "@jupyter-widgets/base",
          "model_name": "LayoutModel",
          "state": {
            "_view_name": "LayoutView",
            "grid_template_rows": null,
            "right": null,
            "justify_content": null,
            "_view_module": "@jupyter-widgets/base",
            "overflow": null,
            "_model_module_version": "1.2.0",
            "_view_count": null,
            "flex_flow": null,
            "width": null,
            "min_width": null,
            "border": null,
            "align_items": null,
            "bottom": null,
            "_model_module": "@jupyter-widgets/base",
            "top": null,
            "grid_column": null,
            "overflow_y": null,
            "overflow_x": null,
            "grid_auto_flow": null,
            "grid_area": null,
            "grid_template_columns": null,
            "flex": null,
            "_model_name": "LayoutModel",
            "justify_items": null,
            "grid_row": null,
            "max_height": null,
            "align_content": null,
            "visibility": null,
            "align_self": null,
            "height": null,
            "min_height": null,
            "padding": null,
            "grid_auto_rows": null,
            "grid_gap": null,
            "max_width": null,
            "order": null,
            "_view_module_version": "1.2.0",
            "grid_template_areas": null,
            "object_position": null,
            "object_fit": null,
            "grid_auto_columns": null,
            "margin": null,
            "display": null,
            "left": null
          }
        },
        "a193f649cb754c0ca91680af87b9a52d": {
          "model_module": "@jupyter-widgets/controls",
          "model_name": "DescriptionStyleModel",
          "state": {
            "_view_name": "StyleView",
            "_model_name": "DescriptionStyleModel",
            "description_width": "",
            "_view_module": "@jupyter-widgets/base",
            "_model_module_version": "1.5.0",
            "_view_count": null,
            "_view_module_version": "1.2.0",
            "_model_module": "@jupyter-widgets/controls"
          }
        },
        "1090518efa284e339568b03c54451fdf": {
          "model_module": "@jupyter-widgets/base",
          "model_name": "LayoutModel",
          "state": {
            "_view_name": "LayoutView",
            "grid_template_rows": null,
            "right": null,
            "justify_content": null,
            "_view_module": "@jupyter-widgets/base",
            "overflow": null,
            "_model_module_version": "1.2.0",
            "_view_count": null,
            "flex_flow": null,
            "width": null,
            "min_width": null,
            "border": null,
            "align_items": null,
            "bottom": null,
            "_model_module": "@jupyter-widgets/base",
            "top": null,
            "grid_column": null,
            "overflow_y": null,
            "overflow_x": null,
            "grid_auto_flow": null,
            "grid_area": null,
            "grid_template_columns": null,
            "flex": null,
            "_model_name": "LayoutModel",
            "justify_items": null,
            "grid_row": null,
            "max_height": null,
            "align_content": null,
            "visibility": null,
            "align_self": null,
            "height": null,
            "min_height": null,
            "padding": null,
            "grid_auto_rows": null,
            "grid_gap": null,
            "max_width": null,
            "order": null,
            "_view_module_version": "1.2.0",
            "grid_template_areas": null,
            "object_position": null,
            "object_fit": null,
            "grid_auto_columns": null,
            "margin": null,
            "display": null,
            "left": null
          }
        },
        "9bc9d8912dbe46b7bee33fdba0a170e0": {
          "model_module": "@jupyter-widgets/controls",
          "model_name": "HBoxModel",
          "state": {
            "_view_name": "HBoxView",
            "_dom_classes": [],
            "_model_name": "HBoxModel",
            "_view_module": "@jupyter-widgets/controls",
            "_model_module_version": "1.5.0",
            "_view_count": null,
            "_view_module_version": "1.5.0",
            "box_style": "",
            "layout": "IPY_MODEL_9b745d83f47f45c2b260fcd7c73af5af",
            "_model_module": "@jupyter-widgets/controls",
            "children": [
              "IPY_MODEL_b06317163ea343f2b86a6f2a0965010e",
              "IPY_MODEL_2362d24b822d48c19f5a2acea881bb4b"
            ]
          }
        },
        "9b745d83f47f45c2b260fcd7c73af5af": {
          "model_module": "@jupyter-widgets/base",
          "model_name": "LayoutModel",
          "state": {
            "_view_name": "LayoutView",
            "grid_template_rows": null,
            "right": null,
            "justify_content": null,
            "_view_module": "@jupyter-widgets/base",
            "overflow": null,
            "_model_module_version": "1.2.0",
            "_view_count": null,
            "flex_flow": null,
            "width": null,
            "min_width": null,
            "border": null,
            "align_items": null,
            "bottom": null,
            "_model_module": "@jupyter-widgets/base",
            "top": null,
            "grid_column": null,
            "overflow_y": null,
            "overflow_x": null,
            "grid_auto_flow": null,
            "grid_area": null,
            "grid_template_columns": null,
            "flex": null,
            "_model_name": "LayoutModel",
            "justify_items": null,
            "grid_row": null,
            "max_height": null,
            "align_content": null,
            "visibility": null,
            "align_self": null,
            "height": null,
            "min_height": null,
            "padding": null,
            "grid_auto_rows": null,
            "grid_gap": null,
            "max_width": null,
            "order": null,
            "_view_module_version": "1.2.0",
            "grid_template_areas": null,
            "object_position": null,
            "object_fit": null,
            "grid_auto_columns": null,
            "margin": null,
            "display": null,
            "left": null
          }
        },
        "b06317163ea343f2b86a6f2a0965010e": {
          "model_module": "@jupyter-widgets/controls",
          "model_name": "FloatProgressModel",
          "state": {
            "_view_name": "ProgressView",
            "style": "IPY_MODEL_39da245a4b4b47ada4a0c841152bf0fb",
            "_dom_classes": [],
            "description": "Downloading: 100%",
            "_model_name": "FloatProgressModel",
            "bar_style": "success",
            "max": 231508,
            "_view_module": "@jupyter-widgets/controls",
            "_model_module_version": "1.5.0",
            "value": 231508,
            "_view_count": null,
            "_view_module_version": "1.5.0",
            "orientation": "horizontal",
            "min": 0,
            "description_tooltip": null,
            "_model_module": "@jupyter-widgets/controls",
            "layout": "IPY_MODEL_248853f6ed9640ccb1ddd65b9f991a9d"
          }
        },
        "2362d24b822d48c19f5a2acea881bb4b": {
          "model_module": "@jupyter-widgets/controls",
          "model_name": "HTMLModel",
          "state": {
            "_view_name": "HTMLView",
            "style": "IPY_MODEL_70cc984e6c864ffdb1bb7ed85ebc515d",
            "_dom_classes": [],
            "description": "",
            "_model_name": "HTMLModel",
            "placeholder": "​",
            "_view_module": "@jupyter-widgets/controls",
            "_model_module_version": "1.5.0",
            "value": " 232k/232k [00:00&lt;00:00, 263kB/s]",
            "_view_count": null,
            "_view_module_version": "1.5.0",
            "description_tooltip": null,
            "_model_module": "@jupyter-widgets/controls",
            "layout": "IPY_MODEL_28b8e7616fcf49628e8202c031b34eb1"
          }
        },
        "39da245a4b4b47ada4a0c841152bf0fb": {
          "model_module": "@jupyter-widgets/controls",
          "model_name": "ProgressStyleModel",
          "state": {
            "_view_name": "StyleView",
            "_model_name": "ProgressStyleModel",
            "description_width": "initial",
            "_view_module": "@jupyter-widgets/base",
            "_model_module_version": "1.5.0",
            "_view_count": null,
            "_view_module_version": "1.2.0",
            "bar_color": null,
            "_model_module": "@jupyter-widgets/controls"
          }
        },
        "248853f6ed9640ccb1ddd65b9f991a9d": {
          "model_module": "@jupyter-widgets/base",
          "model_name": "LayoutModel",
          "state": {
            "_view_name": "LayoutView",
            "grid_template_rows": null,
            "right": null,
            "justify_content": null,
            "_view_module": "@jupyter-widgets/base",
            "overflow": null,
            "_model_module_version": "1.2.0",
            "_view_count": null,
            "flex_flow": null,
            "width": null,
            "min_width": null,
            "border": null,
            "align_items": null,
            "bottom": null,
            "_model_module": "@jupyter-widgets/base",
            "top": null,
            "grid_column": null,
            "overflow_y": null,
            "overflow_x": null,
            "grid_auto_flow": null,
            "grid_area": null,
            "grid_template_columns": null,
            "flex": null,
            "_model_name": "LayoutModel",
            "justify_items": null,
            "grid_row": null,
            "max_height": null,
            "align_content": null,
            "visibility": null,
            "align_self": null,
            "height": null,
            "min_height": null,
            "padding": null,
            "grid_auto_rows": null,
            "grid_gap": null,
            "max_width": null,
            "order": null,
            "_view_module_version": "1.2.0",
            "grid_template_areas": null,
            "object_position": null,
            "object_fit": null,
            "grid_auto_columns": null,
            "margin": null,
            "display": null,
            "left": null
          }
        },
        "70cc984e6c864ffdb1bb7ed85ebc515d": {
          "model_module": "@jupyter-widgets/controls",
          "model_name": "DescriptionStyleModel",
          "state": {
            "_view_name": "StyleView",
            "_model_name": "DescriptionStyleModel",
            "description_width": "",
            "_view_module": "@jupyter-widgets/base",
            "_model_module_version": "1.5.0",
            "_view_count": null,
            "_view_module_version": "1.2.0",
            "_model_module": "@jupyter-widgets/controls"
          }
        },
        "28b8e7616fcf49628e8202c031b34eb1": {
          "model_module": "@jupyter-widgets/base",
          "model_name": "LayoutModel",
          "state": {
            "_view_name": "LayoutView",
            "grid_template_rows": null,
            "right": null,
            "justify_content": null,
            "_view_module": "@jupyter-widgets/base",
            "overflow": null,
            "_model_module_version": "1.2.0",
            "_view_count": null,
            "flex_flow": null,
            "width": null,
            "min_width": null,
            "border": null,
            "align_items": null,
            "bottom": null,
            "_model_module": "@jupyter-widgets/base",
            "top": null,
            "grid_column": null,
            "overflow_y": null,
            "overflow_x": null,
            "grid_auto_flow": null,
            "grid_area": null,
            "grid_template_columns": null,
            "flex": null,
            "_model_name": "LayoutModel",
            "justify_items": null,
            "grid_row": null,
            "max_height": null,
            "align_content": null,
            "visibility": null,
            "align_self": null,
            "height": null,
            "min_height": null,
            "padding": null,
            "grid_auto_rows": null,
            "grid_gap": null,
            "max_width": null,
            "order": null,
            "_view_module_version": "1.2.0",
            "grid_template_areas": null,
            "object_position": null,
            "object_fit": null,
            "grid_auto_columns": null,
            "margin": null,
            "display": null,
            "left": null
          }
        },
        "aa62976820ff4138b564806b060e947d": {
          "model_module": "@jupyter-widgets/controls",
          "model_name": "HBoxModel",
          "state": {
            "_view_name": "HBoxView",
            "_dom_classes": [],
            "_model_name": "HBoxModel",
            "_view_module": "@jupyter-widgets/controls",
            "_model_module_version": "1.5.0",
            "_view_count": null,
            "_view_module_version": "1.5.0",
            "box_style": "",
            "layout": "IPY_MODEL_251fd25f86bc4f72a1fd09d1836f18ee",
            "_model_module": "@jupyter-widgets/controls",
            "children": [
              "IPY_MODEL_db221ad93bad47a293831b1764b07971",
              "IPY_MODEL_c12d99968b6f4887a899b55c56b3ebb3"
            ]
          }
        },
        "251fd25f86bc4f72a1fd09d1836f18ee": {
          "model_module": "@jupyter-widgets/base",
          "model_name": "LayoutModel",
          "state": {
            "_view_name": "LayoutView",
            "grid_template_rows": null,
            "right": null,
            "justify_content": null,
            "_view_module": "@jupyter-widgets/base",
            "overflow": null,
            "_model_module_version": "1.2.0",
            "_view_count": null,
            "flex_flow": null,
            "width": null,
            "min_width": null,
            "border": null,
            "align_items": null,
            "bottom": null,
            "_model_module": "@jupyter-widgets/base",
            "top": null,
            "grid_column": null,
            "overflow_y": null,
            "overflow_x": null,
            "grid_auto_flow": null,
            "grid_area": null,
            "grid_template_columns": null,
            "flex": null,
            "_model_name": "LayoutModel",
            "justify_items": null,
            "grid_row": null,
            "max_height": null,
            "align_content": null,
            "visibility": null,
            "align_self": null,
            "height": null,
            "min_height": null,
            "padding": null,
            "grid_auto_rows": null,
            "grid_gap": null,
            "max_width": null,
            "order": null,
            "_view_module_version": "1.2.0",
            "grid_template_areas": null,
            "object_position": null,
            "object_fit": null,
            "grid_auto_columns": null,
            "margin": null,
            "display": null,
            "left": null
          }
        },
        "db221ad93bad47a293831b1764b07971": {
          "model_module": "@jupyter-widgets/controls",
          "model_name": "FloatProgressModel",
          "state": {
            "_view_name": "ProgressView",
            "style": "IPY_MODEL_9fc078ef8ac24ad285794332df44144d",
            "_dom_classes": [],
            "description": "Downloading: 100%",
            "_model_name": "FloatProgressModel",
            "bar_style": "success",
            "max": 440473133,
            "_view_module": "@jupyter-widgets/controls",
            "_model_module_version": "1.5.0",
            "value": 440473133,
            "_view_count": null,
            "_view_module_version": "1.5.0",
            "orientation": "horizontal",
            "min": 0,
            "description_tooltip": null,
            "_model_module": "@jupyter-widgets/controls",
            "layout": "IPY_MODEL_ae78bfc4002a40ee9d5696dde6ff297e"
          }
        },
        "c12d99968b6f4887a899b55c56b3ebb3": {
          "model_module": "@jupyter-widgets/controls",
          "model_name": "HTMLModel",
          "state": {
            "_view_name": "HTMLView",
            "style": "IPY_MODEL_589da01eff584de6ab1acacf5f8f6c68",
            "_dom_classes": [],
            "description": "",
            "_model_name": "HTMLModel",
            "placeholder": "​",
            "_view_module": "@jupyter-widgets/controls",
            "_model_module_version": "1.5.0",
            "value": " 440M/440M [00:47&lt;00:00, 9.28MB/s]",
            "_view_count": null,
            "_view_module_version": "1.5.0",
            "description_tooltip": null,
            "_model_module": "@jupyter-widgets/controls",
            "layout": "IPY_MODEL_dd0eb8ccbb08430397d5f2ba0742b3c7"
          }
        },
        "9fc078ef8ac24ad285794332df44144d": {
          "model_module": "@jupyter-widgets/controls",
          "model_name": "ProgressStyleModel",
          "state": {
            "_view_name": "StyleView",
            "_model_name": "ProgressStyleModel",
            "description_width": "initial",
            "_view_module": "@jupyter-widgets/base",
            "_model_module_version": "1.5.0",
            "_view_count": null,
            "_view_module_version": "1.2.0",
            "bar_color": null,
            "_model_module": "@jupyter-widgets/controls"
          }
        },
        "ae78bfc4002a40ee9d5696dde6ff297e": {
          "model_module": "@jupyter-widgets/base",
          "model_name": "LayoutModel",
          "state": {
            "_view_name": "LayoutView",
            "grid_template_rows": null,
            "right": null,
            "justify_content": null,
            "_view_module": "@jupyter-widgets/base",
            "overflow": null,
            "_model_module_version": "1.2.0",
            "_view_count": null,
            "flex_flow": null,
            "width": null,
            "min_width": null,
            "border": null,
            "align_items": null,
            "bottom": null,
            "_model_module": "@jupyter-widgets/base",
            "top": null,
            "grid_column": null,
            "overflow_y": null,
            "overflow_x": null,
            "grid_auto_flow": null,
            "grid_area": null,
            "grid_template_columns": null,
            "flex": null,
            "_model_name": "LayoutModel",
            "justify_items": null,
            "grid_row": null,
            "max_height": null,
            "align_content": null,
            "visibility": null,
            "align_self": null,
            "height": null,
            "min_height": null,
            "padding": null,
            "grid_auto_rows": null,
            "grid_gap": null,
            "max_width": null,
            "order": null,
            "_view_module_version": "1.2.0",
            "grid_template_areas": null,
            "object_position": null,
            "object_fit": null,
            "grid_auto_columns": null,
            "margin": null,
            "display": null,
            "left": null
          }
        },
        "589da01eff584de6ab1acacf5f8f6c68": {
          "model_module": "@jupyter-widgets/controls",
          "model_name": "DescriptionStyleModel",
          "state": {
            "_view_name": "StyleView",
            "_model_name": "DescriptionStyleModel",
            "description_width": "",
            "_view_module": "@jupyter-widgets/base",
            "_model_module_version": "1.5.0",
            "_view_count": null,
            "_view_module_version": "1.2.0",
            "_model_module": "@jupyter-widgets/controls"
          }
        },
        "dd0eb8ccbb08430397d5f2ba0742b3c7": {
          "model_module": "@jupyter-widgets/base",
          "model_name": "LayoutModel",
          "state": {
            "_view_name": "LayoutView",
            "grid_template_rows": null,
            "right": null,
            "justify_content": null,
            "_view_module": "@jupyter-widgets/base",
            "overflow": null,
            "_model_module_version": "1.2.0",
            "_view_count": null,
            "flex_flow": null,
            "width": null,
            "min_width": null,
            "border": null,
            "align_items": null,
            "bottom": null,
            "_model_module": "@jupyter-widgets/base",
            "top": null,
            "grid_column": null,
            "overflow_y": null,
            "overflow_x": null,
            "grid_auto_flow": null,
            "grid_area": null,
            "grid_template_columns": null,
            "flex": null,
            "_model_name": "LayoutModel",
            "justify_items": null,
            "grid_row": null,
            "max_height": null,
            "align_content": null,
            "visibility": null,
            "align_self": null,
            "height": null,
            "min_height": null,
            "padding": null,
            "grid_auto_rows": null,
            "grid_gap": null,
            "max_width": null,
            "order": null,
            "_view_module_version": "1.2.0",
            "grid_template_areas": null,
            "object_position": null,
            "object_fit": null,
            "grid_auto_columns": null,
            "margin": null,
            "display": null,
            "left": null
          }
        }
      }
    }
  },
  "cells": [
    {
      "cell_type": "code",
      "metadata": {
        "id": "4xcQCKIR3y8r",
        "colab_type": "code",
        "colab": {
          "base_uri": "https://localhost:8080/",
          "height": 1000
        },
        "outputId": "5b7ea032-742c-453f-ff96-00d37721f0c3"
      },
      "source": [
        "!pip install textattack"
      ],
      "execution_count": 2,
      "outputs": [
        {
          "output_type": "stream",
          "text": [
            "Collecting textattack\n",
            "\u001b[?25l  Downloading https://files.pythonhosted.org/packages/be/84/29a32334c6cffca496511924e3f0ee6ff47282fba557979bf9c321adddc7/textattack-0.2.8-py3-none-any.whl (207kB)\n",
            "\r\u001b[K     |█▋                              | 10kB 17.3MB/s eta 0:00:01\r\u001b[K     |███▏                            | 20kB 4.7MB/s eta 0:00:01\r\u001b[K     |████▊                           | 30kB 6.0MB/s eta 0:00:01\r\u001b[K     |██████▎                         | 40kB 6.2MB/s eta 0:00:01\r\u001b[K     |███████▉                        | 51kB 5.2MB/s eta 0:00:01\r\u001b[K     |█████████▌                      | 61kB 5.7MB/s eta 0:00:01\r\u001b[K     |███████████                     | 71kB 6.2MB/s eta 0:00:01\r\u001b[K     |████████████▋                   | 81kB 6.6MB/s eta 0:00:01\r\u001b[K     |██████████████▏                 | 92kB 6.9MB/s eta 0:00:01\r\u001b[K     |███████████████▊                | 102kB 7.0MB/s eta 0:00:01\r\u001b[K     |█████████████████▍              | 112kB 7.0MB/s eta 0:00:01\r\u001b[K     |███████████████████             | 122kB 7.0MB/s eta 0:00:01\r\u001b[K     |████████████████████▌           | 133kB 7.0MB/s eta 0:00:01\r\u001b[K     |██████████████████████          | 143kB 7.0MB/s eta 0:00:01\r\u001b[K     |███████████████████████▋        | 153kB 7.0MB/s eta 0:00:01\r\u001b[K     |█████████████████████████▎      | 163kB 7.0MB/s eta 0:00:01\r\u001b[K     |██████████████████████████▉     | 174kB 7.0MB/s eta 0:00:01\r\u001b[K     |████████████████████████████▍   | 184kB 7.0MB/s eta 0:00:01\r\u001b[K     |██████████████████████████████  | 194kB 7.0MB/s eta 0:00:01\r\u001b[K     |███████████████████████████████▌| 204kB 7.0MB/s eta 0:00:01\r\u001b[K     |████████████████████████████████| 215kB 7.0MB/s \n",
            "\u001b[?25hRequirement already satisfied: filelock in /usr/local/lib/python3.6/dist-packages (from textattack) (3.0.12)\n",
            "Requirement already satisfied: tensorflow>=2 in /usr/local/lib/python3.6/dist-packages (from textattack) (2.3.0)\n",
            "Collecting language-tool-python\n",
            "  Downloading https://files.pythonhosted.org/packages/d2/4a/95ee8562f40bb8e72f6da43f888e3577711cb49cf62ffedff2b6316d25b5/language_tool_python-2.3.1-py3-none-any.whl\n",
            "Requirement already satisfied: scipy==1.4.1 in /usr/local/lib/python3.6/dist-packages (from textattack) (1.4.1)\n",
            "Requirement already satisfied: tqdm in /usr/local/lib/python3.6/dist-packages (from textattack) (4.41.1)\n",
            "Collecting lemminflect\n",
            "\u001b[?25l  Downloading https://files.pythonhosted.org/packages/8d/c5/62e8dd0b6cbfea212cf55a2338838d85a819dbda9462ba53a415dcf19b86/lemminflect-0.2.1-py3-none-any.whl (769kB)\n",
            "\u001b[K     |████████████████████████████████| 778kB 16.8MB/s \n",
            "\u001b[?25hCollecting sentence-transformers>0.2.6\n",
            "\u001b[?25l  Downloading https://files.pythonhosted.org/packages/ee/71/acfb3f1016f83d90590130dc2ee0d8cd36b005aa7afa45b465837b711070/sentence-transformers-0.3.3.tar.gz (65kB)\n",
            "\u001b[K     |████████████████████████████████| 71kB 8.7MB/s \n",
            "\u001b[?25hRequirement already satisfied: torch in /usr/local/lib/python3.6/dist-packages (from textattack) (1.6.0+cu101)\n",
            "Collecting wandb\n",
            "\u001b[?25l  Downloading https://files.pythonhosted.org/packages/65/14/e7988204e4d4c9a349e73362399263b1c17f2b4d8a753864444f9eac1c92/wandb-0.9.5-py2.py3-none-any.whl (1.4MB)\n",
            "\u001b[K     |████████████████████████████████| 1.4MB 37.8MB/s \n",
            "\u001b[?25hCollecting bert-score\n",
            "\u001b[?25l  Downloading https://files.pythonhosted.org/packages/50/8c/70244d0f351176c9984643e2037edc18b9124491b47ad19191039a18d2bd/bert_score-0.3.5-py3-none-any.whl (52kB)\n",
            "\u001b[K     |████████████████████████████████| 61kB 8.2MB/s \n",
            "\u001b[?25hCollecting terminaltables\n",
            "  Downloading https://files.pythonhosted.org/packages/9b/c4/4a21174f32f8a7e1104798c445dacdc1d4df86f2f26722767034e4de4bff/terminaltables-3.1.0.tar.gz\n",
            "Collecting lru-dict\n",
            "  Downloading https://files.pythonhosted.org/packages/00/a5/32ed6e10246cd341ca8cc205acea5d208e4053f48a4dced2b1b31d45ba3f/lru-dict-1.1.6.tar.gz\n",
            "Requirement already satisfied: pandas>=1.0.1 in /usr/local/lib/python3.6/dist-packages (from textattack) (1.0.5)\n",
            "Collecting tensorboardX\n",
            "\u001b[?25l  Downloading https://files.pythonhosted.org/packages/af/0c/4f41bcd45db376e6fe5c619c01100e9b7531c55791b7244815bac6eac32c/tensorboardX-2.1-py2.py3-none-any.whl (308kB)\n",
            "\u001b[K     |████████████████████████████████| 317kB 38.3MB/s \n",
            "\u001b[?25hCollecting nlp\n",
            "\u001b[?25l  Downloading https://files.pythonhosted.org/packages/09/e3/bcdc59f3434b224040c1047769c47b82705feca2b89ebbc28311e3764782/nlp-0.4.0-py3-none-any.whl (1.7MB)\n",
            "\u001b[K     |████████████████████████████████| 1.7MB 40.2MB/s \n",
            "\u001b[?25hRequirement already satisfied: scikit-learn in /usr/local/lib/python3.6/dist-packages (from textattack) (0.22.2.post1)\n",
            "Collecting tokenizers==0.8.1-rc1\n",
            "\u001b[?25l  Downloading https://files.pythonhosted.org/packages/40/d0/30d5f8d221a0ed981a186c8eb986ce1c94e3a6e87f994eae9f4aa5250217/tokenizers-0.8.1rc1-cp36-cp36m-manylinux1_x86_64.whl (3.0MB)\n",
            "\u001b[K     |████████████████████████████████| 3.0MB 39.9MB/s \n",
            "\u001b[?25hCollecting visdom\n",
            "\u001b[?25l  Downloading https://files.pythonhosted.org/packages/c9/75/e078f5a2e1df7e0d3044749089fc2823e62d029cc027ed8ae5d71fafcbdc/visdom-0.1.8.9.tar.gz (676kB)\n",
            "\u001b[K     |████████████████████████████████| 686kB 42.8MB/s \n",
            "\u001b[?25hRequirement already satisfied: editdistance in /usr/local/lib/python3.6/dist-packages (from textattack) (0.5.3)\n",
            "Requirement already satisfied: nltk in /usr/local/lib/python3.6/dist-packages (from textattack) (3.2.5)\n",
            "Collecting transformers==3.0.2\n",
            "\u001b[?25l  Downloading https://files.pythonhosted.org/packages/27/3c/91ed8f5c4e7ef3227b4119200fc0ed4b4fd965b1f0172021c25701087825/transformers-3.0.2-py3-none-any.whl (769kB)\n",
            "\u001b[K     |████████████████████████████████| 778kB 38.0MB/s \n",
            "\u001b[?25hRequirement already satisfied: numpy in /usr/local/lib/python3.6/dist-packages (from textattack) (1.18.5)\n",
            "Requirement already satisfied: tensorflow-hub in /usr/local/lib/python3.6/dist-packages (from textattack) (0.8.0)\n",
            "Collecting flair>=0.5.1\n",
            "\u001b[?25l  Downloading https://files.pythonhosted.org/packages/09/b8/5d0c60b18926414786b988e1a7fbf0e010837b1bf4aa80b955571b552d59/flair-0.6-py3-none-any.whl (241kB)\n",
            "\u001b[K     |████████████████████████████████| 245kB 44.6MB/s \n",
            "\u001b[?25hRequirement already satisfied: protobuf>=3.9.2 in /usr/local/lib/python3.6/dist-packages (from tensorflow>=2->textattack) (3.12.4)\n",
            "Requirement already satisfied: opt-einsum>=2.3.2 in /usr/local/lib/python3.6/dist-packages (from tensorflow>=2->textattack) (3.3.0)\n",
            "Requirement already satisfied: tensorboard<3,>=2.3.0 in /usr/local/lib/python3.6/dist-packages (from tensorflow>=2->textattack) (2.3.0)\n",
            "Requirement already satisfied: gast==0.3.3 in /usr/local/lib/python3.6/dist-packages (from tensorflow>=2->textattack) (0.3.3)\n",
            "Requirement already satisfied: termcolor>=1.1.0 in /usr/local/lib/python3.6/dist-packages (from tensorflow>=2->textattack) (1.1.0)\n",
            "Requirement already satisfied: google-pasta>=0.1.8 in /usr/local/lib/python3.6/dist-packages (from tensorflow>=2->textattack) (0.2.0)\n",
            "Requirement already satisfied: keras-preprocessing<1.2,>=1.1.1 in /usr/local/lib/python3.6/dist-packages (from tensorflow>=2->textattack) (1.1.2)\n",
            "Requirement already satisfied: absl-py>=0.7.0 in /usr/local/lib/python3.6/dist-packages (from tensorflow>=2->textattack) (0.9.0)\n",
            "Requirement already satisfied: tensorflow-estimator<2.4.0,>=2.3.0 in /usr/local/lib/python3.6/dist-packages (from tensorflow>=2->textattack) (2.3.0)\n",
            "Requirement already satisfied: h5py<2.11.0,>=2.10.0 in /usr/local/lib/python3.6/dist-packages (from tensorflow>=2->textattack) (2.10.0)\n",
            "Requirement already satisfied: six>=1.12.0 in /usr/local/lib/python3.6/dist-packages (from tensorflow>=2->textattack) (1.15.0)\n",
            "Requirement already satisfied: grpcio>=1.8.6 in /usr/local/lib/python3.6/dist-packages (from tensorflow>=2->textattack) (1.31.0)\n",
            "Requirement already satisfied: wheel>=0.26 in /usr/local/lib/python3.6/dist-packages (from tensorflow>=2->textattack) (0.34.2)\n",
            "Requirement already satisfied: astunparse==1.6.3 in /usr/local/lib/python3.6/dist-packages (from tensorflow>=2->textattack) (1.6.3)\n",
            "Requirement already satisfied: wrapt>=1.11.1 in /usr/local/lib/python3.6/dist-packages (from tensorflow>=2->textattack) (1.12.1)\n",
            "Requirement already satisfied: requests in /usr/local/lib/python3.6/dist-packages (from language-tool-python->textattack) (2.23.0)\n",
            "Requirement already satisfied: future in /usr/local/lib/python3.6/dist-packages (from torch->textattack) (0.16.0)\n",
            "Collecting shortuuid>=0.5.0\n",
            "  Downloading https://files.pythonhosted.org/packages/25/a6/2ecc1daa6a304e7f1b216f0896b26156b78e7c38e1211e9b798b4716c53d/shortuuid-1.0.1-py3-none-any.whl\n",
            "Requirement already satisfied: Click>=7.0 in /usr/local/lib/python3.6/dist-packages (from wandb->textattack) (7.1.2)\n",
            "Collecting sentry-sdk>=0.4.0\n",
            "\u001b[?25l  Downloading https://files.pythonhosted.org/packages/8f/0f/e6ae366e926589878f2b1e41485473ee0368e5b1b62fd0f8c0bc8311eb75/sentry_sdk-0.17.0-py2.py3-none-any.whl (115kB)\n",
            "\u001b[K     |████████████████████████████████| 122kB 44.3MB/s \n",
            "\u001b[?25hCollecting subprocess32>=3.5.3\n",
            "\u001b[?25l  Downloading https://files.pythonhosted.org/packages/32/c8/564be4d12629b912ea431f1a50eb8b3b9d00f1a0b1ceff17f266be190007/subprocess32-3.5.4.tar.gz (97kB)\n",
            "\u001b[K     |████████████████████████████████| 102kB 11.8MB/s \n",
            "\u001b[?25hCollecting configparser>=3.8.1\n",
            "  Downloading https://files.pythonhosted.org/packages/4b/6b/01baa293090240cf0562cc5eccb69c6f5006282127f2b846fad011305c79/configparser-5.0.0-py3-none-any.whl\n",
            "Requirement already satisfied: PyYAML>=3.10 in /usr/local/lib/python3.6/dist-packages (from wandb->textattack) (3.13)\n",
            "Requirement already satisfied: nvidia-ml-py3>=7.352.0 in /usr/local/lib/python3.6/dist-packages (from wandb->textattack) (7.352.0)\n",
            "Collecting GitPython>=1.0.0\n",
            "\u001b[?25l  Downloading https://files.pythonhosted.org/packages/f9/1e/a45320cab182bf1c8656107b3d4c042e659742822fc6bff150d769a984dd/GitPython-3.1.7-py3-none-any.whl (158kB)\n",
            "\u001b[K     |████████████████████████████████| 163kB 42.1MB/s \n",
            "\u001b[?25hCollecting docker-pycreds>=0.4.0\n",
            "  Downloading https://files.pythonhosted.org/packages/f5/e8/f6bd1eee09314e7e6dee49cbe2c5e22314ccdb38db16c9fc72d2fa80d054/docker_pycreds-0.4.0-py2.py3-none-any.whl\n",
            "Collecting gql==0.2.0\n",
            "  Downloading https://files.pythonhosted.org/packages/c4/6f/cf9a3056045518f06184e804bae89390eb706168349daa9dff8ac609962a/gql-0.2.0.tar.gz\n",
            "Requirement already satisfied: python-dateutil>=2.6.1 in /usr/local/lib/python3.6/dist-packages (from wandb->textattack) (2.8.1)\n",
            "Collecting watchdog>=0.8.3\n",
            "\u001b[?25l  Downloading https://files.pythonhosted.org/packages/0e/06/121302598a4fc01aca942d937f4a2c33430b7181137b35758913a8db10ad/watchdog-0.10.3.tar.gz (94kB)\n",
            "\u001b[K     |████████████████████████████████| 102kB 12.3MB/s \n",
            "\u001b[?25hRequirement already satisfied: psutil>=5.0.0 in /usr/local/lib/python3.6/dist-packages (from wandb->textattack) (5.4.8)\n",
            "Requirement already satisfied: matplotlib in /usr/local/lib/python3.6/dist-packages (from bert-score->textattack) (3.2.2)\n",
            "Requirement already satisfied: pytz>=2017.2 in /usr/local/lib/python3.6/dist-packages (from pandas>=1.0.1->textattack) (2018.9)\n",
            "Requirement already satisfied: dataclasses; python_version < \"3.7\" in /usr/local/lib/python3.6/dist-packages (from nlp->textattack) (0.7)\n",
            "Collecting xxhash\n",
            "\u001b[?25l  Downloading https://files.pythonhosted.org/packages/f7/73/826b19f3594756cb1c6c23d2fbd8ca6a77a9cd3b650c9dec5acc85004c38/xxhash-2.0.0-cp36-cp36m-manylinux2010_x86_64.whl (242kB)\n",
            "\u001b[K     |████████████████████████████████| 245kB 40.5MB/s \n",
            "\u001b[?25hCollecting pyarrow>=0.16.0\n",
            "\u001b[?25l  Downloading https://files.pythonhosted.org/packages/f3/99/0a605f016121ca314d1469dc9069e4978395bc46fda40f73099d90ad3ba4/pyarrow-1.0.1-cp36-cp36m-manylinux2014_x86_64.whl (17.3MB)\n",
            "\u001b[K     |████████████████████████████████| 17.3MB 216kB/s \n",
            "\u001b[?25hRequirement already satisfied: dill in /usr/local/lib/python3.6/dist-packages (from nlp->textattack) (0.3.2)\n",
            "Requirement already satisfied: joblib>=0.11 in /usr/local/lib/python3.6/dist-packages (from scikit-learn->textattack) (0.16.0)\n",
            "Requirement already satisfied: tornado in /usr/local/lib/python3.6/dist-packages (from visdom->textattack) (5.1.1)\n",
            "Requirement already satisfied: pyzmq in /usr/local/lib/python3.6/dist-packages (from visdom->textattack) (19.0.2)\n",
            "Collecting jsonpatch\n",
            "  Downloading https://files.pythonhosted.org/packages/4f/d0/34b0f59ac08de9c1e07876cfecd80aec650600177b4bd445124c755499a7/jsonpatch-1.26-py2.py3-none-any.whl\n",
            "Collecting torchfile\n",
            "  Downloading https://files.pythonhosted.org/packages/91/af/5b305f86f2d218091af657ddb53f984ecbd9518ca9fe8ef4103a007252c9/torchfile-0.1.0.tar.gz\n",
            "Collecting websocket-client\n",
            "\u001b[?25l  Downloading https://files.pythonhosted.org/packages/4c/5f/f61b420143ed1c8dc69f9eaec5ff1ac36109d52c80de49d66e0c36c3dfdf/websocket_client-0.57.0-py2.py3-none-any.whl (200kB)\n",
            "\u001b[K     |████████████████████████████████| 204kB 41.1MB/s \n",
            "\u001b[?25hRequirement already satisfied: pillow in /usr/local/lib/python3.6/dist-packages (from visdom->textattack) (7.0.0)\n",
            "Collecting sentencepiece!=0.1.92\n",
            "\u001b[?25l  Downloading https://files.pythonhosted.org/packages/d4/a4/d0a884c4300004a78cca907a6ff9a5e9fe4f090f5d95ab341c53d28cbc58/sentencepiece-0.1.91-cp36-cp36m-manylinux1_x86_64.whl (1.1MB)\n",
            "\u001b[K     |████████████████████████████████| 1.1MB 40.0MB/s \n",
            "\u001b[?25hCollecting sacremoses\n",
            "\u001b[?25l  Downloading https://files.pythonhosted.org/packages/7d/34/09d19aff26edcc8eb2a01bed8e98f13a1537005d31e95233fd48216eed10/sacremoses-0.0.43.tar.gz (883kB)\n",
            "\u001b[K     |████████████████████████████████| 890kB 39.5MB/s \n",
            "\u001b[?25hRequirement already satisfied: regex!=2019.12.17 in /usr/local/lib/python3.6/dist-packages (from transformers==3.0.2->textattack) (2019.12.20)\n",
            "Requirement already satisfied: packaging in /usr/local/lib/python3.6/dist-packages (from transformers==3.0.2->textattack) (20.4)\n",
            "Collecting deprecated>=1.2.4\n",
            "  Downloading https://files.pythonhosted.org/packages/76/a1/05d7f62f956d77b23a640efc650f80ce24483aa2f85a09c03fb64f49e879/Deprecated-1.2.10-py2.py3-none-any.whl\n",
            "Requirement already satisfied: lxml in /usr/local/lib/python3.6/dist-packages (from flair>=0.5.1->textattack) (4.2.6)\n",
            "Collecting langdetect\n",
            "\u001b[?25l  Downloading https://files.pythonhosted.org/packages/56/a3/8407c1e62d5980188b4acc45ef3d94b933d14a2ebc9ef3505f22cf772570/langdetect-1.0.8.tar.gz (981kB)\n",
            "\u001b[K     |████████████████████████████████| 983kB 39.7MB/s \n",
            "\u001b[?25hCollecting sqlitedict>=1.6.0\n",
            "  Downloading https://files.pythonhosted.org/packages/0f/1c/c757b93147a219cf1e25cef7e1ad9b595b7f802159493c45ce116521caff/sqlitedict-1.6.0.tar.gz\n",
            "Collecting ftfy\n",
            "\u001b[?25l  Downloading https://files.pythonhosted.org/packages/ff/e2/3b51c53dffb1e52d9210ebc01f1fb9f2f6eba9b3201fa971fd3946643c71/ftfy-5.8.tar.gz (64kB)\n",
            "\u001b[K     |████████████████████████████████| 71kB 9.1MB/s \n",
            "\u001b[?25hRequirement already satisfied: tabulate in /usr/local/lib/python3.6/dist-packages (from flair>=0.5.1->textattack) (0.8.7)\n",
            "Collecting pytest>=5.3.2\n",
            "\u001b[?25l  Downloading https://files.pythonhosted.org/packages/98/db/712bee56f9ab20373508a5a1c662e1db49b407dacf03b5224c6171ed0a3d/pytest-6.0.1-py3-none-any.whl (270kB)\n",
            "\u001b[K     |████████████████████████████████| 276kB 40.5MB/s \n",
            "\u001b[?25hCollecting konoha[janome]<5.0.0,>=4.0.0\n",
            "  Downloading https://files.pythonhosted.org/packages/19/4b/f29cb8cf226d49b14f0d18bd175916dd0054dc66e42488f2c808075ef5a8/konoha-4.6.1-py3-none-any.whl\n",
            "Collecting segtok>=1.5.7\n",
            "  Downloading https://files.pythonhosted.org/packages/41/08/582dab5f4b1d5ca23bc6927b4bb977c8ff7f3a87a3b98844ef833e2f5623/segtok-1.5.10.tar.gz\n",
            "Collecting bpemb>=0.3.2\n",
            "  Downloading https://files.pythonhosted.org/packages/91/77/3f0f53856e86af32b1d3c86652815277f7b5f880002584eb30db115b6df5/bpemb-0.3.2-py3-none-any.whl\n",
            "Collecting mpld3==0.3\n",
            "\u001b[?25l  Downloading https://files.pythonhosted.org/packages/91/95/a52d3a83d0a29ba0d6898f6727e9858fe7a43f6c2ce81a5fe7e05f0f4912/mpld3-0.3.tar.gz (788kB)\n",
            "\u001b[K     |████████████████████████████████| 798kB 34.7MB/s \n",
            "\u001b[?25hRequirement already satisfied: hyperopt>=0.1.1 in /usr/local/lib/python3.6/dist-packages (from flair>=0.5.1->textattack) (0.1.2)\n",
            "Requirement already satisfied: gensim>=3.4.0 in /usr/local/lib/python3.6/dist-packages (from flair>=0.5.1->textattack) (3.6.0)\n",
            "Requirement already satisfied: setuptools in /usr/local/lib/python3.6/dist-packages (from protobuf>=3.9.2->tensorflow>=2->textattack) (49.2.0)\n",
            "Requirement already satisfied: google-auth-oauthlib<0.5,>=0.4.1 in /usr/local/lib/python3.6/dist-packages (from tensorboard<3,>=2.3.0->tensorflow>=2->textattack) (0.4.1)\n",
            "Requirement already satisfied: markdown>=2.6.8 in /usr/local/lib/python3.6/dist-packages (from tensorboard<3,>=2.3.0->tensorflow>=2->textattack) (3.2.2)\n",
            "Requirement already satisfied: werkzeug>=0.11.15 in /usr/local/lib/python3.6/dist-packages (from tensorboard<3,>=2.3.0->tensorflow>=2->textattack) (1.0.1)\n",
            "Requirement already satisfied: google-auth<2,>=1.6.3 in /usr/local/lib/python3.6/dist-packages (from tensorboard<3,>=2.3.0->tensorflow>=2->textattack) (1.17.2)\n",
            "Requirement already satisfied: tensorboard-plugin-wit>=1.6.0 in /usr/local/lib/python3.6/dist-packages (from tensorboard<3,>=2.3.0->tensorflow>=2->textattack) (1.7.0)\n",
            "Requirement already satisfied: urllib3!=1.25.0,!=1.25.1,<1.26,>=1.21.1 in /usr/local/lib/python3.6/dist-packages (from requests->language-tool-python->textattack) (1.24.3)\n",
            "Requirement already satisfied: certifi>=2017.4.17 in /usr/local/lib/python3.6/dist-packages (from requests->language-tool-python->textattack) (2020.6.20)\n",
            "Requirement already satisfied: idna<3,>=2.5 in /usr/local/lib/python3.6/dist-packages (from requests->language-tool-python->textattack) (2.10)\n",
            "Requirement already satisfied: chardet<4,>=3.0.2 in /usr/local/lib/python3.6/dist-packages (from requests->language-tool-python->textattack) (3.0.4)\n",
            "Collecting gitdb<5,>=4.0.1\n",
            "\u001b[?25l  Downloading https://files.pythonhosted.org/packages/48/11/d1800bca0a3bae820b84b7d813ad1eff15a48a64caea9c823fc8c1b119e8/gitdb-4.0.5-py3-none-any.whl (63kB)\n",
            "\u001b[K     |████████████████████████████████| 71kB 9.3MB/s \n",
            "\u001b[?25hCollecting graphql-core<2,>=0.5.0\n",
            "\u001b[?25l  Downloading https://files.pythonhosted.org/packages/b0/89/00ad5e07524d8c523b14d70c685e0299a8b0de6d0727e368c41b89b7ed0b/graphql-core-1.1.tar.gz (70kB)\n",
            "\u001b[K     |████████████████████████████████| 71kB 8.5MB/s \n",
            "\u001b[?25hRequirement already satisfied: promise<3,>=2.0 in /usr/local/lib/python3.6/dist-packages (from gql==0.2.0->wandb->textattack) (2.3)\n",
            "Collecting pathtools>=0.1.1\n",
            "  Downloading https://files.pythonhosted.org/packages/e7/7f/470d6fcdf23f9f3518f6b0b76be9df16dcc8630ad409947f8be2eb0ed13a/pathtools-0.1.2.tar.gz\n",
            "Requirement already satisfied: pyparsing!=2.0.4,!=2.1.2,!=2.1.6,>=2.0.1 in /usr/local/lib/python3.6/dist-packages (from matplotlib->bert-score->textattack) (2.4.7)\n",
            "Requirement already satisfied: cycler>=0.10 in /usr/local/lib/python3.6/dist-packages (from matplotlib->bert-score->textattack) (0.10.0)\n",
            "Requirement already satisfied: kiwisolver>=1.0.1 in /usr/local/lib/python3.6/dist-packages (from matplotlib->bert-score->textattack) (1.2.0)\n",
            "Collecting jsonpointer>=1.9\n",
            "  Downloading https://files.pythonhosted.org/packages/18/b0/a80d29577c08eea401659254dfaed87f1af45272899e1812d7e01b679bc5/jsonpointer-2.0-py2.py3-none-any.whl\n",
            "Requirement already satisfied: wcwidth in /usr/local/lib/python3.6/dist-packages (from ftfy->flair>=0.5.1->textattack) (0.2.5)\n",
            "Requirement already satisfied: py>=1.8.2 in /usr/local/lib/python3.6/dist-packages (from pytest>=5.3.2->flair>=0.5.1->textattack) (1.9.0)\n",
            "Collecting pluggy<1.0,>=0.12\n",
            "  Downloading https://files.pythonhosted.org/packages/a0/28/85c7aa31b80d150b772fbe4a229487bc6644da9ccb7e427dd8cc60cb8a62/pluggy-0.13.1-py2.py3-none-any.whl\n",
            "Requirement already satisfied: attrs>=17.4.0 in /usr/local/lib/python3.6/dist-packages (from pytest>=5.3.2->flair>=0.5.1->textattack) (19.3.0)\n",
            "Requirement already satisfied: iniconfig in /usr/local/lib/python3.6/dist-packages (from pytest>=5.3.2->flair>=0.5.1->textattack) (1.0.1)\n",
            "Requirement already satisfied: toml in /usr/local/lib/python3.6/dist-packages (from pytest>=5.3.2->flair>=0.5.1->textattack) (0.10.1)\n",
            "Requirement already satisfied: more-itertools>=4.0.0 in /usr/local/lib/python3.6/dist-packages (from pytest>=5.3.2->flair>=0.5.1->textattack) (8.4.0)\n",
            "Requirement already satisfied: importlib-metadata>=0.12; python_version < \"3.8\" in /usr/local/lib/python3.6/dist-packages (from pytest>=5.3.2->flair>=0.5.1->textattack) (1.7.0)\n",
            "Collecting overrides==3.0.0\n",
            "  Downloading https://files.pythonhosted.org/packages/42/8d/caa729f809ecdf8e76fac3c1ff7d3f0b72c398c9dd8a6919927a30a873b3/overrides-3.0.0.tar.gz\n",
            "Collecting janome<0.4.0,>=0.3.10; extra == \"janome\" or extra == \"all\" or extra == \"all_with_integrations\"\n",
            "\u001b[?25l  Downloading https://files.pythonhosted.org/packages/79/f0/bd7f90806132d7d9d642d418bdc3e870cfdff5947254ea3cab27480983a7/Janome-0.3.10-py2.py3-none-any.whl (21.5MB)\n",
            "\u001b[K     |████████████████████████████████| 21.5MB 1.4MB/s \n",
            "\u001b[?25hRequirement already satisfied: pymongo in /usr/local/lib/python3.6/dist-packages (from hyperopt>=0.1.1->flair>=0.5.1->textattack) (3.11.0)\n",
            "Requirement already satisfied: networkx in /usr/local/lib/python3.6/dist-packages (from hyperopt>=0.1.1->flair>=0.5.1->textattack) (2.4)\n",
            "Requirement already satisfied: smart-open>=1.2.1 in /usr/local/lib/python3.6/dist-packages (from gensim>=3.4.0->flair>=0.5.1->textattack) (2.1.0)\n",
            "Requirement already satisfied: requests-oauthlib>=0.7.0 in /usr/local/lib/python3.6/dist-packages (from google-auth-oauthlib<0.5,>=0.4.1->tensorboard<3,>=2.3.0->tensorflow>=2->textattack) (1.3.0)\n",
            "Requirement already satisfied: pyasn1-modules>=0.2.1 in /usr/local/lib/python3.6/dist-packages (from google-auth<2,>=1.6.3->tensorboard<3,>=2.3.0->tensorflow>=2->textattack) (0.2.8)\n",
            "Requirement already satisfied: cachetools<5.0,>=2.0.0 in /usr/local/lib/python3.6/dist-packages (from google-auth<2,>=1.6.3->tensorboard<3,>=2.3.0->tensorflow>=2->textattack) (4.1.1)\n",
            "Requirement already satisfied: rsa<5,>=3.1.4; python_version >= \"3\" in /usr/local/lib/python3.6/dist-packages (from google-auth<2,>=1.6.3->tensorboard<3,>=2.3.0->tensorflow>=2->textattack) (4.6)\n",
            "Collecting smmap<4,>=3.0.1\n",
            "  Downloading https://files.pythonhosted.org/packages/b0/9a/4d409a6234eb940e6a78dfdfc66156e7522262f5f2fecca07dc55915952d/smmap-3.0.4-py2.py3-none-any.whl\n",
            "Requirement already satisfied: zipp>=0.5 in /usr/local/lib/python3.6/dist-packages (from importlib-metadata>=0.12; python_version < \"3.8\"->pytest>=5.3.2->flair>=0.5.1->textattack) (3.1.0)\n",
            "Requirement already satisfied: decorator>=4.3.0 in /usr/local/lib/python3.6/dist-packages (from networkx->hyperopt>=0.1.1->flair>=0.5.1->textattack) (4.4.2)\n",
            "Requirement already satisfied: boto in /usr/local/lib/python3.6/dist-packages (from smart-open>=1.2.1->gensim>=3.4.0->flair>=0.5.1->textattack) (2.49.0)\n",
            "Requirement already satisfied: boto3 in /usr/local/lib/python3.6/dist-packages (from smart-open>=1.2.1->gensim>=3.4.0->flair>=0.5.1->textattack) (1.14.37)\n",
            "Requirement already satisfied: oauthlib>=3.0.0 in /usr/local/lib/python3.6/dist-packages (from requests-oauthlib>=0.7.0->google-auth-oauthlib<0.5,>=0.4.1->tensorboard<3,>=2.3.0->tensorflow>=2->textattack) (3.1.0)\n",
            "Requirement already satisfied: pyasn1<0.5.0,>=0.4.6 in /usr/local/lib/python3.6/dist-packages (from pyasn1-modules>=0.2.1->google-auth<2,>=1.6.3->tensorboard<3,>=2.3.0->tensorflow>=2->textattack) (0.4.8)\n",
            "Requirement already satisfied: jmespath<1.0.0,>=0.7.1 in /usr/local/lib/python3.6/dist-packages (from boto3->smart-open>=1.2.1->gensim>=3.4.0->flair>=0.5.1->textattack) (0.10.0)\n",
            "Requirement already satisfied: botocore<1.18.0,>=1.17.37 in /usr/local/lib/python3.6/dist-packages (from boto3->smart-open>=1.2.1->gensim>=3.4.0->flair>=0.5.1->textattack) (1.17.37)\n",
            "Requirement already satisfied: s3transfer<0.4.0,>=0.3.0 in /usr/local/lib/python3.6/dist-packages (from boto3->smart-open>=1.2.1->gensim>=3.4.0->flair>=0.5.1->textattack) (0.3.3)\n",
            "Requirement already satisfied: docutils<0.16,>=0.10 in /usr/local/lib/python3.6/dist-packages (from botocore<1.18.0,>=1.17.37->boto3->smart-open>=1.2.1->gensim>=3.4.0->flair>=0.5.1->textattack) (0.15.2)\n",
            "Building wheels for collected packages: sentence-transformers, terminaltables, lru-dict, visdom, subprocess32, gql, watchdog, torchfile, sacremoses, langdetect, sqlitedict, ftfy, segtok, mpld3, graphql-core, pathtools, overrides\n",
            "  Building wheel for sentence-transformers (setup.py) ... \u001b[?25l\u001b[?25hdone\n",
            "  Created wheel for sentence-transformers: filename=sentence_transformers-0.3.3-cp36-none-any.whl size=97299 sha256=ad1bc75f9a515ed746834005a1a851c329c41fdecfdbeba79775ddc72e505cf0\n",
            "  Stored in directory: /root/.cache/pip/wheels/75/d6/0a/cab163b21d0597cc1580bc344487b11ad405e0d1d314725f2b\n",
            "  Building wheel for terminaltables (setup.py) ... \u001b[?25l\u001b[?25hdone\n",
            "  Created wheel for terminaltables: filename=terminaltables-3.1.0-cp36-none-any.whl size=15356 sha256=c4068c51df354d73367ba4e0da8fd2eeefa33ae3fafd27f97030008b466c5724\n",
            "  Stored in directory: /root/.cache/pip/wheels/30/6b/50/6c75775b681fb36cdfac7f19799888ef9d8813aff9e379663e\n",
            "  Building wheel for lru-dict (setup.py) ... \u001b[?25l\u001b[?25hdone\n",
            "  Created wheel for lru-dict: filename=lru_dict-1.1.6-cp36-cp36m-linux_x86_64.whl size=25870 sha256=6ea60c9423f912c8384bdea80754c5150d10345dde07a41f2172cdf4ad68272e\n",
            "  Stored in directory: /root/.cache/pip/wheels/b7/ef/06/fbdd555907a7d438fb33e4c8675f771ff1cf41917284c51ebf\n",
            "  Building wheel for visdom (setup.py) ... \u001b[?25l\u001b[?25hdone\n",
            "  Created wheel for visdom: filename=visdom-0.1.8.9-cp36-none-any.whl size=655250 sha256=69abab9a65c3e3455128657e7a36e8d2e2e3440eddcd68a9e62a7032b6ba1412\n",
            "  Stored in directory: /root/.cache/pip/wheels/70/19/a7/6d589ed967f4dfefd33bc166d081257bd4ed0cb618dccfd62a\n",
            "  Building wheel for subprocess32 (setup.py) ... \u001b[?25l\u001b[?25hdone\n",
            "  Created wheel for subprocess32: filename=subprocess32-3.5.4-cp36-none-any.whl size=6489 sha256=d4dbd48ec4f44bf51c6460ee974a38b815df17df385cd44162474f831a7aeeac\n",
            "  Stored in directory: /root/.cache/pip/wheels/68/39/1a/5e402bdfdf004af1786c8b853fd92f8c4a04f22aad179654d1\n",
            "  Building wheel for gql (setup.py) ... \u001b[?25l\u001b[?25hdone\n",
            "  Created wheel for gql: filename=gql-0.2.0-cp36-none-any.whl size=7630 sha256=1ad269139f03495099c877413c5b1df73fdb5dece47cf8b2bec3207167d0c33b\n",
            "  Stored in directory: /root/.cache/pip/wheels/ce/0e/7b/58a8a5268655b3ad74feef5aa97946f0addafb3cbb6bd2da23\n",
            "  Building wheel for watchdog (setup.py) ... \u001b[?25l\u001b[?25hdone\n",
            "  Created wheel for watchdog: filename=watchdog-0.10.3-cp36-none-any.whl size=73870 sha256=de0793824ce5165cc8609201f59bcfb26d5d7a314ef343f27d8c7a9e63165400\n",
            "  Stored in directory: /root/.cache/pip/wheels/a8/1d/38/2c19bb311f67cc7b4d07a2ec5ea36ab1a0a0ea50db994a5bc7\n",
            "  Building wheel for torchfile (setup.py) ... \u001b[?25l\u001b[?25hdone\n",
            "  Created wheel for torchfile: filename=torchfile-0.1.0-cp36-none-any.whl size=5712 sha256=8ebd71dccdac9b79a532ef0af6af463f14825ac643d59ff4f5b844150ac8e786\n",
            "  Stored in directory: /root/.cache/pip/wheels/b1/c3/d6/9a1cc8f3a99a0fc1124cae20153f36af59a6e683daca0a0814\n",
            "  Building wheel for sacremoses (setup.py) ... \u001b[?25l\u001b[?25hdone\n",
            "  Created wheel for sacremoses: filename=sacremoses-0.0.43-cp36-none-any.whl size=893260 sha256=8a98bd90c7150e0490995888f816e24db6370308183b9896c5d571245509fd76\n",
            "  Stored in directory: /root/.cache/pip/wheels/29/3c/fd/7ce5c3f0666dab31a50123635e6fb5e19ceb42ce38d4e58f45\n",
            "  Building wheel for langdetect (setup.py) ... \u001b[?25l\u001b[?25hdone\n",
            "  Created wheel for langdetect: filename=langdetect-1.0.8-cp36-none-any.whl size=993193 sha256=df633611105fae21d928df9fc28f845ba3568ed5ba3551472df0c48f0064b44c\n",
            "  Stored in directory: /root/.cache/pip/wheels/8d/b3/aa/6d99de9f3841d7d3d40a60ea06e6d669e8e5012e6c8b947a57\n",
            "  Building wheel for sqlitedict (setup.py) ... \u001b[?25l\u001b[?25hdone\n",
            "  Created wheel for sqlitedict: filename=sqlitedict-1.6.0-cp36-none-any.whl size=14689 sha256=06e60f7fda7aa68c80bb54aad35801b32442120b3260bbedaa5b01f9f5a6e0b5\n",
            "  Stored in directory: /root/.cache/pip/wheels/bd/57/d3/907c3ee02d35e66f674ad0106e61f06eeeb98f6ee66a6cc3fe\n",
            "  Building wheel for ftfy (setup.py) ... \u001b[?25l\u001b[?25hdone\n",
            "  Created wheel for ftfy: filename=ftfy-5.8-cp36-none-any.whl size=45612 sha256=e704e560161e6eb42dedb467aabea268b73809d427b4499cf453d96aa4fb2b18\n",
            "  Stored in directory: /root/.cache/pip/wheels/ba/c0/ef/f28c4da5ac84a4e06ac256ca9182fc34fa57fefffdbc68425b\n",
            "  Building wheel for segtok (setup.py) ... \u001b[?25l\u001b[?25hdone\n",
            "  Created wheel for segtok: filename=segtok-1.5.10-cp36-none-any.whl size=25020 sha256=72676a254ce5a7635592c3f2880e57d4c0d5d9f8e61c76df25e5c259eb5d0985\n",
            "  Stored in directory: /root/.cache/pip/wheels/b4/39/f6/9ca1c5cabde964d728023b5751c3a206a5c8cc40252321fb6b\n",
            "  Building wheel for mpld3 (setup.py) ... \u001b[?25l\u001b[?25hdone\n",
            "  Created wheel for mpld3: filename=mpld3-0.3-cp36-none-any.whl size=116679 sha256=8ac6212c2af587a3dbce03731af0d68ff8fe5b93630f398bee9e245a827e3a2d\n",
            "  Stored in directory: /root/.cache/pip/wheels/c0/47/fb/8a64f89aecfe0059830479308ad42d62e898a3e3cefdf6ba28\n",
            "  Building wheel for graphql-core (setup.py) ... \u001b[?25l\u001b[?25hdone\n",
            "  Created wheel for graphql-core: filename=graphql_core-1.1-cp36-none-any.whl size=104650 sha256=3c43a2897bef42d8dc5b384bd15c2eef0c3b18c945387cd881746db9025411aa\n",
            "  Stored in directory: /root/.cache/pip/wheels/45/99/d7/c424029bb0fe910c63b68dbf2aa20d3283d023042521bcd7d5\n",
            "  Building wheel for pathtools (setup.py) ... \u001b[?25l\u001b[?25hdone\n",
            "  Created wheel for pathtools: filename=pathtools-0.1.2-cp36-none-any.whl size=8784 sha256=7d1d5cc0fef8f44c8bf77dae27b9924ff4e5fc7a9c96740298e44ad61dd8c617\n",
            "  Stored in directory: /root/.cache/pip/wheels/0b/04/79/c3b0c3a0266a3cb4376da31e5bfe8bba0c489246968a68e843\n",
            "  Building wheel for overrides (setup.py) ... \u001b[?25l\u001b[?25hdone\n",
            "  Created wheel for overrides: filename=overrides-3.0.0-cp36-none-any.whl size=5669 sha256=94ff17f8dfd69d062502c71cd35b9e62642d96ad88829ffe92a89eb2965921cf\n",
            "  Stored in directory: /root/.cache/pip/wheels/6f/1b/ec/6c71a1eb823df7f850d956b2d8c50a6d49c191e1063d73b9be\n",
            "Successfully built sentence-transformers terminaltables lru-dict visdom subprocess32 gql watchdog torchfile sacremoses langdetect sqlitedict ftfy segtok mpld3 graphql-core pathtools overrides\n",
            "\u001b[31mERROR: datascience 0.10.6 has requirement folium==0.2.1, but you'll have folium 0.8.3 which is incompatible.\u001b[0m\n",
            "Installing collected packages: language-tool-python, lemminflect, sentencepiece, sacremoses, tokenizers, transformers, sentence-transformers, shortuuid, sentry-sdk, subprocess32, configparser, smmap, gitdb, GitPython, docker-pycreds, graphql-core, gql, pathtools, watchdog, wandb, bert-score, terminaltables, lru-dict, tensorboardX, xxhash, pyarrow, nlp, jsonpointer, jsonpatch, torchfile, websocket-client, visdom, deprecated, langdetect, sqlitedict, ftfy, pluggy, pytest, overrides, janome, konoha, segtok, bpemb, mpld3, flair, textattack\n",
            "  Found existing installation: pyarrow 0.14.1\n",
            "    Uninstalling pyarrow-0.14.1:\n",
            "      Successfully uninstalled pyarrow-0.14.1\n",
            "  Found existing installation: pluggy 0.7.1\n",
            "    Uninstalling pluggy-0.7.1:\n",
            "      Successfully uninstalled pluggy-0.7.1\n",
            "  Found existing installation: pytest 3.6.4\n",
            "    Uninstalling pytest-3.6.4:\n",
            "      Successfully uninstalled pytest-3.6.4\n",
            "Successfully installed GitPython-3.1.7 bert-score-0.3.5 bpemb-0.3.2 configparser-5.0.0 deprecated-1.2.10 docker-pycreds-0.4.0 flair-0.6 ftfy-5.8 gitdb-4.0.5 gql-0.2.0 graphql-core-1.1 janome-0.3.10 jsonpatch-1.26 jsonpointer-2.0 konoha-4.6.1 langdetect-1.0.8 language-tool-python-2.3.1 lemminflect-0.2.1 lru-dict-1.1.6 mpld3-0.3 nlp-0.4.0 overrides-3.0.0 pathtools-0.1.2 pluggy-0.13.1 pyarrow-1.0.1 pytest-6.0.1 sacremoses-0.0.43 segtok-1.5.10 sentence-transformers-0.3.3 sentencepiece-0.1.91 sentry-sdk-0.17.0 shortuuid-1.0.1 smmap-3.0.4 sqlitedict-1.6.0 subprocess32-3.5.4 tensorboardX-2.1 terminaltables-3.1.0 textattack-0.2.8 tokenizers-0.8.1rc1 torchfile-0.1.0 transformers-3.0.2 visdom-0.1.8.9 wandb-0.9.5 watchdog-0.10.3 websocket-client-0.57.0 xxhash-2.0.0\n"
          ],
          "name": "stdout"
        }
      ]
    },
    {
      "cell_type": "code",
      "metadata": {
        "id": "iZG1gqaAQ6Oi",
        "colab_type": "code",
        "colab": {}
      },
      "source": [
        "import pandas as pd"
      ],
      "execution_count": 3,
      "outputs": []
    },
    {
      "cell_type": "code",
      "metadata": {
        "id": "mWTkL7J9fqiB",
        "colab_type": "code",
        "colab": {}
      },
      "source": [
        "import numpy as np"
      ],
      "execution_count": 4,
      "outputs": []
    },
    {
      "cell_type": "code",
      "metadata": {
        "id": "Sbkx1LBvQ82v",
        "colab_type": "code",
        "colab": {}
      },
      "source": [
        "df=pd.read_csv('/content/drive/My Drive/combined_relevant_data.csv')"
      ],
      "execution_count": 5,
      "outputs": []
    },
    {
      "cell_type": "code",
      "metadata": {
        "id": "uAXWHV3_RM_J",
        "colab_type": "code",
        "colab": {
          "base_uri": "https://localhost:8080/",
          "height": 35
        },
        "outputId": "5cb3a471-07d6-48db-95c2-d13e3b425bd7"
      },
      "source": [
        "df['text'][0]"
      ],
      "execution_count": 6,
      "outputs": [
        {
          "output_type": "execute_result",
          "data": {
            "application/vnd.google.colaboratory.intrinsic+json": {
              "type": "string"
            },
            "text/plain": [
              "'The decision to remove Chick-fil-A from Emory University was based solely on student feedback.'"
            ]
          },
          "metadata": {
            "tags": []
          },
          "execution_count": 6
        }
      ]
    },
    {
      "cell_type": "code",
      "metadata": {
        "id": "w_ryjQ6tRO2Z",
        "colab_type": "code",
        "colab": {}
      },
      "source": [
        "dataset=[]\n",
        "for i in range(len(df)):\n",
        "  label=df['truth'][i]\n",
        "  text_input=df['text'][i]\n",
        "  if label == 1:\n",
        "    dataset.append((text_input,1))\n",
        "  else:\n",
        "      dataset.append((text_input,0))"
      ],
      "execution_count": 7,
      "outputs": []
    },
    {
      "cell_type": "code",
      "metadata": {
        "id": "1SJ93XVKUtCq",
        "colab_type": "code",
        "colab": {
          "base_uri": "https://localhost:8080/",
          "height": 34
        },
        "outputId": "95199bd0-ec99-4b61-c81a-5b437b209ad7"
      },
      "source": [
        "dataset[2]"
      ],
      "execution_count": 8,
      "outputs": [
        {
          "output_type": "execute_result",
          "data": {
            "text/plain": [
              "('Ron Klein repeatedly voted in favor of amnesty for illegal immigrants.', 0)"
            ]
          },
          "metadata": {
            "tags": []
          },
          "execution_count": 8
        }
      ]
    },
    {
      "cell_type": "code",
      "metadata": {
        "id": "4UyNLMC1RnuP",
        "colab_type": "code",
        "colab": {}
      },
      "source": [
        "from textattack.attack_recipes import BERTAttackLi2020\n"
      ],
      "execution_count": 10,
      "outputs": []
    },
    {
      "cell_type": "code",
      "metadata": {
        "id": "Upd3tQ0RRwuM",
        "colab_type": "code",
        "colab": {}
      },
      "source": [
        "import textattack"
      ],
      "execution_count": 11,
      "outputs": []
    },
    {
      "cell_type": "code",
      "metadata": {
        "id": "huOj8PO66Bun",
        "colab_type": "code",
        "colab": {}
      },
      "source": [
        "import torch"
      ],
      "execution_count": 12,
      "outputs": []
    },
    {
      "cell_type": "code",
      "metadata": {
        "id": "6_x3iwQnIV3s",
        "colab_type": "code",
        "colab": {}
      },
      "source": [
        "from tensorflow.keras.preprocessing.sequence import pad_sequences"
      ],
      "execution_count": 13,
      "outputs": []
    },
    {
      "cell_type": "code",
      "metadata": {
        "id": "UPQ0EHPQBF0x",
        "colab_type": "code",
        "colab": {
          "base_uri": "https://localhost:8080/",
          "height": 391
        },
        "outputId": "388b1735-caff-4d88-9f3d-c8449da1c796"
      },
      "source": [
        "!pip install pytorch_pretrained_bert"
      ],
      "execution_count": 13,
      "outputs": [
        {
          "output_type": "stream",
          "text": [
            "Collecting pytorch_pretrained_bert\n",
            "\u001b[?25l  Downloading https://files.pythonhosted.org/packages/d7/e0/c08d5553b89973d9a240605b9c12404bcf8227590de62bae27acbcfe076b/pytorch_pretrained_bert-0.6.2-py3-none-any.whl (123kB)\n",
            "\r\u001b[K     |██▋                             | 10kB 15.4MB/s eta 0:00:01\r\u001b[K     |█████▎                          | 20kB 5.3MB/s eta 0:00:01\r\u001b[K     |████████                        | 30kB 5.9MB/s eta 0:00:01\r\u001b[K     |██████████▋                     | 40kB 6.1MB/s eta 0:00:01\r\u001b[K     |█████████████▎                  | 51kB 5.1MB/s eta 0:00:01\r\u001b[K     |███████████████▉                | 61kB 5.8MB/s eta 0:00:01\r\u001b[K     |██████████████████▌             | 71kB 6.1MB/s eta 0:00:01\r\u001b[K     |█████████████████████▏          | 81kB 6.8MB/s eta 0:00:01\r\u001b[K     |███████████████████████▉        | 92kB 7.1MB/s eta 0:00:01\r\u001b[K     |██████████████████████████▌     | 102kB 7.3MB/s eta 0:00:01\r\u001b[K     |█████████████████████████████▏  | 112kB 7.3MB/s eta 0:00:01\r\u001b[K     |███████████████████████████████▊| 122kB 7.3MB/s eta 0:00:01\r\u001b[K     |████████████████████████████████| 133kB 7.3MB/s \n",
            "\u001b[?25hRequirement already satisfied: requests in /usr/local/lib/python3.6/dist-packages (from pytorch_pretrained_bert) (2.23.0)\n",
            "Requirement already satisfied: boto3 in /usr/local/lib/python3.6/dist-packages (from pytorch_pretrained_bert) (1.14.37)\n",
            "Requirement already satisfied: tqdm in /usr/local/lib/python3.6/dist-packages (from pytorch_pretrained_bert) (4.41.1)\n",
            "Requirement already satisfied: regex in /usr/local/lib/python3.6/dist-packages (from pytorch_pretrained_bert) (2019.12.20)\n",
            "Requirement already satisfied: numpy in /usr/local/lib/python3.6/dist-packages (from pytorch_pretrained_bert) (1.18.5)\n",
            "Requirement already satisfied: torch>=0.4.1 in /usr/local/lib/python3.6/dist-packages (from pytorch_pretrained_bert) (1.6.0+cu101)\n",
            "Requirement already satisfied: urllib3!=1.25.0,!=1.25.1,<1.26,>=1.21.1 in /usr/local/lib/python3.6/dist-packages (from requests->pytorch_pretrained_bert) (1.24.3)\n",
            "Requirement already satisfied: chardet<4,>=3.0.2 in /usr/local/lib/python3.6/dist-packages (from requests->pytorch_pretrained_bert) (3.0.4)\n",
            "Requirement already satisfied: idna<3,>=2.5 in /usr/local/lib/python3.6/dist-packages (from requests->pytorch_pretrained_bert) (2.10)\n",
            "Requirement already satisfied: certifi>=2017.4.17 in /usr/local/lib/python3.6/dist-packages (from requests->pytorch_pretrained_bert) (2020.6.20)\n",
            "Requirement already satisfied: jmespath<1.0.0,>=0.7.1 in /usr/local/lib/python3.6/dist-packages (from boto3->pytorch_pretrained_bert) (0.10.0)\n",
            "Requirement already satisfied: botocore<1.18.0,>=1.17.37 in /usr/local/lib/python3.6/dist-packages (from boto3->pytorch_pretrained_bert) (1.17.37)\n",
            "Requirement already satisfied: s3transfer<0.4.0,>=0.3.0 in /usr/local/lib/python3.6/dist-packages (from boto3->pytorch_pretrained_bert) (0.3.3)\n",
            "Requirement already satisfied: future in /usr/local/lib/python3.6/dist-packages (from torch>=0.4.1->pytorch_pretrained_bert) (0.16.0)\n",
            "Requirement already satisfied: docutils<0.16,>=0.10 in /usr/local/lib/python3.6/dist-packages (from botocore<1.18.0,>=1.17.37->boto3->pytorch_pretrained_bert) (0.15.2)\n",
            "Requirement already satisfied: python-dateutil<3.0.0,>=2.1 in /usr/local/lib/python3.6/dist-packages (from botocore<1.18.0,>=1.17.37->boto3->pytorch_pretrained_bert) (2.8.1)\n",
            "Requirement already satisfied: six>=1.5 in /usr/local/lib/python3.6/dist-packages (from python-dateutil<3.0.0,>=2.1->botocore<1.18.0,>=1.17.37->boto3->pytorch_pretrained_bert) (1.15.0)\n",
            "Installing collected packages: pytorch-pretrained-bert\n",
            "Successfully installed pytorch-pretrained-bert-0.6.2\n"
          ],
          "name": "stdout"
        }
      ]
    },
    {
      "cell_type": "code",
      "metadata": {
        "id": "0Fk7VlZQHy1O",
        "colab_type": "code",
        "colab": {}
      },
      "source": [
        "from pytorch_pretrained_bert import BertTokenizer"
      ],
      "execution_count": 14,
      "outputs": []
    },
    {
      "cell_type": "code",
      "metadata": {
        "id": "OPGgNWW-H2ot",
        "colab_type": "code",
        "colab": {
          "base_uri": "https://localhost:8080/",
          "height": 34
        },
        "outputId": "7af7d7b3-103b-4a47-f4e7-d9451cb61900"
      },
      "source": [
        "tokenizer=BertTokenizer.from_pretrained('bert-base-cased')"
      ],
      "execution_count": 15,
      "outputs": [
        {
          "output_type": "stream",
          "text": [
            "The pre-trained model you are loading is a cased model but you have not set `do_lower_case` to False. We are setting `do_lower_case=False` for you but you may want to check this behavior.\n"
          ],
          "name": "stderr"
        }
      ]
    },
    {
      "cell_type": "code",
      "metadata": {
        "id": "j0aup8xGDiDw",
        "colab_type": "code",
        "colab": {}
      },
      "source": [
        "from textattack.models.wrappers import HuggingFaceModelWrapper"
      ],
      "execution_count": 16,
      "outputs": []
    },
    {
      "cell_type": "code",
      "metadata": {
        "id": "xtwervIqA18z",
        "colab_type": "code",
        "colab": {
          "base_uri": "https://localhost:8080/",
          "height": 207
        },
        "outputId": "a5c51e66-c73f-4c8a-9ce8-a1385a401bef"
      },
      "source": [
        "model = torch.load('/content/drive/My Drive/bert_model_128_128_8.zip (Unzipped Files)/bert_model_128_128_8.pth')"
      ],
      "execution_count": 17,
      "outputs": [
        {
          "output_type": "stream",
          "text": [
            "/usr/local/lib/python3.6/dist-packages/torch/serialization.py:649: SourceChangeWarning: source code of class 'torch.nn.modules.sparse.Embedding' has changed. you can retrieve the original source code by accessing the object's source attribute or set `torch.nn.Module.dump_patches = True` and use the patch tool to revert the changes.\n",
            "  warnings.warn(msg, SourceChangeWarning)\n",
            "/usr/local/lib/python3.6/dist-packages/torch/serialization.py:649: SourceChangeWarning: source code of class 'torch.nn.modules.dropout.Dropout' has changed. you can retrieve the original source code by accessing the object's source attribute or set `torch.nn.Module.dump_patches = True` and use the patch tool to revert the changes.\n",
            "  warnings.warn(msg, SourceChangeWarning)\n",
            "/usr/local/lib/python3.6/dist-packages/torch/serialization.py:649: SourceChangeWarning: source code of class 'torch.nn.modules.container.ModuleList' has changed. you can retrieve the original source code by accessing the object's source attribute or set `torch.nn.Module.dump_patches = True` and use the patch tool to revert the changes.\n",
            "  warnings.warn(msg, SourceChangeWarning)\n",
            "/usr/local/lib/python3.6/dist-packages/torch/serialization.py:649: SourceChangeWarning: source code of class 'torch.nn.modules.linear.Linear' has changed. you can retrieve the original source code by accessing the object's source attribute or set `torch.nn.Module.dump_patches = True` and use the patch tool to revert the changes.\n",
            "  warnings.warn(msg, SourceChangeWarning)\n",
            "/usr/local/lib/python3.6/dist-packages/torch/serialization.py:649: SourceChangeWarning: source code of class 'torch.nn.modules.activation.Tanh' has changed. you can retrieve the original source code by accessing the object's source attribute or set `torch.nn.Module.dump_patches = True` and use the patch tool to revert the changes.\n",
            "  warnings.warn(msg, SourceChangeWarning)\n"
          ],
          "name": "stderr"
        }
      ]
    },
    {
      "cell_type": "code",
      "metadata": {
        "id": "pU5aVotaBEDh",
        "colab_type": "code",
        "colab": {}
      },
      "source": [
        "print(model)"
      ],
      "execution_count": null,
      "outputs": []
    },
    {
      "cell_type": "code",
      "metadata": {
        "id": "MCRYLiQMFzic",
        "colab_type": "code",
        "colab": {}
      },
      "source": [
        "def preprocess_for_BERT(sentences, tokenizer, MAX_LEN):\n",
        "        # sentences = df['text'].values\n",
        "        sentences = [\"[CLS] \" + sentence + \" [SEP]\" for sentence in sentences]\n",
        "        tokenized_texts = [tokenizer.tokenize(sent) for sent in sentences]\n",
        "        input_ids = [tokenizer.convert_tokens_to_ids(x) for x in tokenized_texts]\n",
        "        input_ids = pad_sequences(input_ids, maxlen=MAX_LEN, dtype=\"long\", truncating=\"post\", padding=\"post\")\n",
        "        \n",
        "        attention_masks = []\n",
        "        for seq in input_ids:\n",
        "            seq_mask = [float(i>0) for i in seq]\n",
        "            attention_masks.append(seq_mask)\n",
        "        return input_ids, attention_masks  "
      ],
      "execution_count": 18,
      "outputs": []
    },
    {
      "cell_type": "code",
      "metadata": {
        "id": "KhbsB97oJhp1",
        "colab_type": "code",
        "colab": {
          "base_uri": "https://localhost:8080/",
          "height": 34
        },
        "outputId": "76284a41-e662-4f51-a63f-b1dfdbf70b43"
      },
      "source": [
        "device = torch.device(\"cuda\" if torch.cuda.is_available() else \"cpu\")\n",
        "n_gpu = torch.cuda.device_count()\n",
        "print(n_gpu, torch.cuda.get_device_name(0))"
      ],
      "execution_count": 19,
      "outputs": [
        {
          "output_type": "stream",
          "text": [
            "1 Tesla K80\n"
          ],
          "name": "stdout"
        }
      ]
    },
    {
      "cell_type": "code",
      "metadata": {
        "id": "TdAbCMxDBkOA",
        "colab_type": "code",
        "colab": {}
      },
      "source": [
        "class CustomBFSQModelWrapper(HuggingFaceModelWrapper):\n",
        "  def __init__(self, model, tokenizer):\n",
        "    self.model = model\n",
        "    self.model.eval()\n",
        "    self.model.cuda()\n",
        "    self.MAX_LEN=128\n",
        "    self.tokenizer = tokenizer\n",
        "  \n",
        "  def __call__(self, text_input_list):\n",
        "    input_ids, attention_masks = preprocess_for_BERT(text_input_list, self.tokenizer, self.MAX_LEN)\n",
        "    predictions=[]\n",
        "    input_ids=torch.cuda.LongTensor(input_ids)\n",
        "    attention_masks=torch.cuda.LongTensor(attention_masks)\n",
        "    # input_ids.to(device)\n",
        "    # attention_masks.to(device)\n",
        "    with torch.no_grad():\n",
        "      logits=self.model(input_ids, token_type_ids=None, attention_mask=attention_masks)\n",
        "    logits = logits.detach().cpu()\n",
        "    # logits=logits.unbind()\n",
        "    # for i in range(len(logits)):\n",
        "    #   predictions.append(logits[i])\n",
        "    # predictions=torch.Tensor(predictions)\n",
        "    return logits\n",
        "\n",
        "    \n",
        "    \n",
        "  "
      ],
      "execution_count": 20,
      "outputs": []
    },
    {
      "cell_type": "code",
      "metadata": {
        "id": "JlXHTVjnHfZj",
        "colab_type": "code",
        "colab": {}
      },
      "source": [
        "wrapper=CustomBFSQModelWrapper(model, tokenizer)"
      ],
      "execution_count": 21,
      "outputs": []
    },
    {
      "cell_type": "code",
      "metadata": {
        "id": "1EYqRLRgH-yq",
        "colab_type": "code",
        "colab": {
          "base_uri": "https://localhost:8080/",
          "height": 51
        },
        "outputId": "850ab744-c559-42d9-f0b0-1d09ab3aaba4"
      },
      "source": [
        "wrapper.__call__(['Donald Trump is the worst president in United States history.','President Obama was born in Kenya and is a Muslim'])"
      ],
      "execution_count": 22,
      "outputs": [
        {
          "output_type": "execute_result",
          "data": {
            "text/plain": [
              "tensor([[-0.2581,  1.6357],\n",
              "        [ 1.9370, -1.1452]])"
            ]
          },
          "metadata": {
            "tags": []
          },
          "execution_count": 22
        }
      ]
    },
    {
      "cell_type": "code",
      "metadata": {
        "id": "UYzcF4C-ILn5",
        "colab_type": "code",
        "colab": {
          "base_uri": "https://localhost:8080/",
          "height": 371,
          "referenced_widgets": [
            "47397d71744f40a7a30eb28e8bafbe88",
            "1533a1318c7647619ff9e2d422442bcb",
            "8e84b36a8a664ca592ebac798bff87d1",
            "2ffa7ef8465e4acd9754996b2a443e75",
            "c436708d8bd240539ac693a0f9ebda4e",
            "0ed6cc0b7f78482cb28225b090da4b9b",
            "a193f649cb754c0ca91680af87b9a52d",
            "1090518efa284e339568b03c54451fdf",
            "9bc9d8912dbe46b7bee33fdba0a170e0",
            "9b745d83f47f45c2b260fcd7c73af5af",
            "b06317163ea343f2b86a6f2a0965010e",
            "2362d24b822d48c19f5a2acea881bb4b",
            "39da245a4b4b47ada4a0c841152bf0fb",
            "248853f6ed9640ccb1ddd65b9f991a9d",
            "70cc984e6c864ffdb1bb7ed85ebc515d",
            "28b8e7616fcf49628e8202c031b34eb1",
            "aa62976820ff4138b564806b060e947d",
            "251fd25f86bc4f72a1fd09d1836f18ee",
            "db221ad93bad47a293831b1764b07971",
            "c12d99968b6f4887a899b55c56b3ebb3",
            "9fc078ef8ac24ad285794332df44144d",
            "ae78bfc4002a40ee9d5696dde6ff297e",
            "589da01eff584de6ab1acacf5f8f6c68",
            "dd0eb8ccbb08430397d5f2ba0742b3c7"
          ]
        },
        "outputId": "89f2a11b-cd60-4db8-da2a-c5576412e9e0"
      },
      "source": [
        "attack = BERTAttackLi2020.build(wrapper)\n"
      ],
      "execution_count": 23,
      "outputs": [
        {
          "output_type": "display_data",
          "data": {
            "application/vnd.jupyter.widget-view+json": {
              "model_id": "47397d71744f40a7a30eb28e8bafbe88",
              "version_minor": 0,
              "version_major": 2
            },
            "text/plain": [
              "HBox(children=(FloatProgress(value=0.0, description='Downloading', max=433.0, style=ProgressStyle(description_…"
            ]
          },
          "metadata": {
            "tags": []
          }
        },
        {
          "output_type": "stream",
          "text": [
            "\n"
          ],
          "name": "stdout"
        },
        {
          "output_type": "display_data",
          "data": {
            "application/vnd.jupyter.widget-view+json": {
              "model_id": "9bc9d8912dbe46b7bee33fdba0a170e0",
              "version_minor": 0,
              "version_major": 2
            },
            "text/plain": [
              "HBox(children=(FloatProgress(value=0.0, description='Downloading', max=231508.0, style=ProgressStyle(descripti…"
            ]
          },
          "metadata": {
            "tags": []
          }
        },
        {
          "output_type": "stream",
          "text": [
            "\n"
          ],
          "name": "stdout"
        },
        {
          "output_type": "display_data",
          "data": {
            "application/vnd.jupyter.widget-view+json": {
              "model_id": "aa62976820ff4138b564806b060e947d",
              "version_minor": 0,
              "version_major": 2
            },
            "text/plain": [
              "HBox(children=(FloatProgress(value=0.0, description='Downloading', max=440473133.0, style=ProgressStyle(descri…"
            ]
          },
          "metadata": {
            "tags": []
          }
        },
        {
          "output_type": "stream",
          "text": [
            "\n"
          ],
          "name": "stdout"
        },
        {
          "output_type": "stream",
          "text": [
            "Some weights of the model checkpoint at bert-base-uncased were not used when initializing BertForMaskedLM: ['cls.seq_relationship.weight', 'cls.seq_relationship.bias']\n",
            "- This IS expected if you are initializing BertForMaskedLM from the checkpoint of a model trained on another task or with another architecture (e.g. initializing a BertForSequenceClassification model from a BertForPretraining model).\n",
            "- This IS NOT expected if you are initializing BertForMaskedLM from the checkpoint of a model that you expect to be exactly identical (initializing a BertForSequenceClassification model from a BertForSequenceClassification model).\n",
            "Some weights of BertForMaskedLM were not initialized from the model checkpoint at bert-base-uncased and are newly initialized: ['cls.predictions.decoder.bias']\n",
            "You should probably TRAIN this model on a down-stream task to be able to use it for predictions and inference.\n",
            "Using /tmp/tfhub_modules to cache modules.\n",
            "Downloading TF-Hub Module 'https://tfhub.dev/google/universal-sentence-encoder/4'.\n",
            "Downloading https://tfhub.dev/google/universal-sentence-encoder/4: 670.00MB\n",
            "Downloaded https://tfhub.dev/google/universal-sentence-encoder/4, Total size: 987.47MB\n",
            "Downloaded TF-Hub Module 'https://tfhub.dev/google/universal-sentence-encoder/4'.\n",
            "\u001b[34;1mtextattack\u001b[0m: Unknown if model of class <class '__main__.CustomBFSQModelWrapper'> compatible with goal function <class 'textattack.goal_functions.classification.untargeted_classification.UntargetedClassification'>.\n"
          ],
          "name": "stderr"
        }
      ]
    },
    {
      "cell_type": "code",
      "metadata": {
        "id": "0aO5-lpcOgqI",
        "colab_type": "code",
        "colab": {
          "base_uri": "https://localhost:8080/",
          "height": 34
        },
        "outputId": "fe88a6f4-88ba-4907-d00b-044367b3adaa"
      },
      "source": [
        "len(dataset)"
      ],
      "execution_count": 24,
      "outputs": [
        {
          "output_type": "execute_result",
          "data": {
            "text/plain": [
              "47503"
            ]
          },
          "metadata": {
            "tags": []
          },
          "execution_count": 24
        }
      ]
    },
    {
      "cell_type": "code",
      "metadata": {
        "id": "MJiXuTS_2PXS",
        "colab_type": "code",
        "colab": {}
      },
      "source": [
        "from textattack.loggers import CSVLogger\n",
        "logger=CSVLogger()"
      ],
      "execution_count": null,
      "outputs": []
    },
    {
      "cell_type": "code",
      "metadata": {
        "id": "_0gfUhV2SQAg",
        "colab_type": "code",
        "colab": {
          "base_uri": "https://localhost:8080/",
          "height": 1000
        },
        "outputId": "40c399d4-6f81-49d5-d241-f74d954d45c9"
      },
      "source": [
        "results=[]\n",
        "results_iterable = attack.attack_dataset(dataset, indices=range(len(dataset)))\n",
        "for result in results_iterable:\n",
        "    logger.log_attack_result(result)\n",
        "    print(result.__str__(color_method='ansi'))"
      ],
      "execution_count": null,
      "outputs": [
        {
          "output_type": "stream",
          "text": [
            "\u001b[92m1 (100%)\u001b[0m --> \u001b[91m0 (61%)\u001b[0m\n",
            "\n",
            "The \u001b[92mdecision\u001b[0m to remove Chick-fil-A from Emory University was based solely on \u001b[92mstudent\u001b[0m feedback.\n",
            "\n",
            "The \u001b[91mdeciding\u001b[0m to remove Chick-fil-A from Emory University was based solely on \u001b[91mperformance\u001b[0m feedback.\n",
            "\u001b[92m1 (100%)\u001b[0m --> \u001b[91m0 (81%)\u001b[0m\n",
            "\n",
            "\u001b[92mMike\u001b[0m Dovillas big ideas like expanding the Ohio Motion Picture \u001b[92mTax\u001b[0m Credit, which helped bring films like The Avengers to Cleveland, have \u001b[92mhelped\u001b[0m make our state No. 1 in the Midwest for job creation.\n",
            "\n",
            "\u001b[91mbill\u001b[0m Dovillas big ideas like expanding the Ohio Motion Picture \u001b[91msubsidy\u001b[0m Credit, which helped bring films like The Avengers to Cleveland, have \u001b[91mleft\u001b[0m make our state No. 1 in the Midwest for job creation.\n",
            "\u001b[92m1 (96%)\u001b[0m --> \u001b[37m[SKIPPED]\u001b[0m\n",
            "\n",
            "Ron Klein repeatedly voted in favor of amnesty for illegal immigrants.\n",
            "\u001b[92m1 (100%)\u001b[0m --> \u001b[91m0 (98%)\u001b[0m\n",
            "\n",
            "\u001b[92mSince\u001b[0m the salary for state \u001b[92mlawmakers\u001b[0m was raised to $79,500, that purchasing power has now been reduced to $53,000.\n",
            "\n",
            "\u001b[91mon\u001b[0m the salary for state \u001b[91mlaws\u001b[0m was raised to $79,500, that purchasing power has now been reduced to $53,000.\n",
            "\u001b[91m0 (99%)\u001b[0m --> \u001b[92m1 (99%)\u001b[0m\n",
            "\n",
            "Before \u001b[91mCongress\u001b[0m, (Tom) Cotton got paid \u001b[91mhandsomely\u001b[0m working for insurance companies and corporate interests.\n",
            "\n",
            "Before \u001b[92mcongressional\u001b[0m, (Tom) Cotton got paid \u001b[92mhandsomefor\u001b[0m working for insurance companies and corporate interests.\n",
            "\u001b[92m1 (100%)\u001b[0m --> \u001b[91m0 (81%)\u001b[0m\n",
            "\n",
            "Tennessees appeals \u001b[92mcourt\u001b[0m judges were \u001b[92mselected\u001b[0m by a handful of \u001b[92mparty\u001b[0m officials in Nashville before the \u001b[92msystem\u001b[0m of \u001b[92mmerit\u001b[0m \u001b[92mselection\u001b[0m was put into effect.\n",
            "\n",
            "Tennessees appeals \u001b[91mcourts\u001b[0m judges were \u001b[91mcommissioned\u001b[0m by a handful of \u001b[91mgovernor\u001b[0m officials in Nashville before the \u001b[91mtechnique\u001b[0m of \u001b[91mdivision\u001b[0m \u001b[91mcollection\u001b[0m was put into effect.\n",
            "\u001b[92m1 (100%)\u001b[0m --> \u001b[91m0 (60%)\u001b[0m\n",
            "\n",
            "The Republican leader of the Senate \u001b[92msaid\u001b[0m his main goal after this election is simply to \u001b[92mwin\u001b[0m the next one.\n",
            "\n",
            "The Republican leader of the Senate \u001b[91magreed\u001b[0m his main goal after this election is simply to \u001b[91mrule\u001b[0m the next one.\n",
            "\u001b[92m1 (100%)\u001b[0m --> \u001b[91m0 (80%)\u001b[0m\n",
            "\n",
            "Volunteer firefighters and communities they serve in Georgia and elsewhere are being \u001b[92mdevastated\u001b[0m by Obamacare.\n",
            "\n",
            "Volunteer firefighters and communities they serve in Georgia and elsewhere are being \u001b[91mseverely\u001b[0m by Obamacare.\n",
            "\u001b[91m0 (100%)\u001b[0m --> \u001b[92m1 (67%)\u001b[0m\n",
            "\n",
            "\u001b[91mSays\u001b[0m you can buy four light bulbs for $1.99 at Walmart, while a single compact fluorescent lamp (\u001b[91mCFL\u001b[0m) costs $10 a pop.\n",
            "\n",
            "\u001b[92mmore\u001b[0m you can buy four light bulbs for $1.99 at Walmart, while a single compact fluorescent lamp (\u001b[92monly\u001b[0m) costs $10 a pop.\n",
            "\u001b[92m1 (100%)\u001b[0m --> \u001b[91m0 (81%)\u001b[0m\n",
            "\n",
            "Our own National Security Agency says that (Iran's) nuclear ambitions are \u001b[92madvancing\u001b[0m, and at the same time ... we are slashing our own nuclear arsenal.\n",
            "\n",
            "Our own National Security Agency says that (Iran's) nuclear ambitions are \u001b[91mthreatening\u001b[0m, and at the same time ... we are slashing our own nuclear arsenal.\n",
            "\u001b[92m1 (100%)\u001b[0m --> \u001b[91m0 (93%)\u001b[0m\n",
            "\n",
            "Lester Holt: presidential debate moderator and \u001b[92mproven\u001b[0m \u001b[92mfact-checker\u001b[0m\n",
            "\n",
            "Lester Holt: presidential debate moderator and \u001b[91mknown\u001b[0m \u001b[91mfact-checkoperator\u001b[0m\n",
            "\u001b[91m0 (80%)\u001b[0m --> \u001b[37m[SKIPPED]\u001b[0m\n",
            "\n",
            "In Rand Paul and Marco Rubios feud over Cuba policy, a preview of GOPs 2016 foreign policy debate\n",
            "\u001b[92m1 (94%)\u001b[0m --> \u001b[91m0 (100%)\u001b[0m\n",
            "\n",
            "\u001b[92mCourt\u001b[0m rejects Obama immigration plan. Executive abuse of power?\n",
            "\n",
            "\u001b[91mll\u001b[0m rejects Obama immigration plan. Executive abuse of power?\n",
            "\u001b[92m1 (100%)\u001b[0m --> \u001b[91m0 (95%)\u001b[0m\n",
            "\n",
            "Says Rick Scott cut education by $1.3 billion in his first year, then in his second year he \u001b[92mdecreases\u001b[0m \u001b[92mfunding\u001b[0m by $300 million to our state universities.\n",
            "\n",
            "Says Rick Scott cut education by $1.3 billion in his first year, then in his second year he \u001b[91mraises\u001b[0m \u001b[91mendowed\u001b[0m by $300 million to our state universities.\n",
            "\u001b[92m1 (100%)\u001b[0m --> \u001b[91m0 (73%)\u001b[0m\n",
            "\n",
            "Connecticuts highest court \u001b[92mapproves\u001b[0m forced chemotherapy for teen\n",
            "\n",
            "Connecticuts highest court \u001b[91mapproved-\u001b[0m forced chemotherapy for teen\n",
            "\u001b[92m1 (66%)\u001b[0m --> \u001b[37m[SKIPPED]\u001b[0m\n",
            "\n",
            "The Mitchell Park Domes lose about $1 million-plus every year and the number of people going to the Domes has been going down.\n",
            "\u001b[91m0 (99%)\u001b[0m --> \u001b[92m1 (58%)\u001b[0m\n",
            "\n",
            "Russian Navy Moves \u001b[91mGuided\u001b[0m Missile Ships to Baltic\n",
            "\n",
            "Russian Navy Moves \u001b[92min\u001b[0m Missile Ships to Baltic\n",
            "\u001b[92m1 (96%)\u001b[0m --> \u001b[91m0 (93%)\u001b[0m\n",
            "\n",
            "Full *Redacted* \u001b[92mpolice\u001b[0m report on #MikeBrown and #Ferguson http://t.co/Tn27pdWOVq\n",
            "\n",
            "Full *Redacted* \u001b[91mpd\u001b[0m report on #MikeBrown and #Ferguson http://t.co/Tn27pdWOVq\n",
            "\u001b[92m1 (100%)\u001b[0m --> \u001b[91m0 (99%)\u001b[0m\n",
            "\n",
            "Here are some of the satirical pictures \u001b[92mCharlie\u001b[0m \u001b[92mHebdo\u001b[0m have \u001b[92mproduced\u001b[0m #freespeech #BanIslam \u001b[92mhttp\u001b[0m://t.co/m4OaNCf5e0\n",
            "\n",
            "Here are some of the satirical pictures \u001b[91mlord\u001b[0m \u001b[91mhebhas\u001b[0m have \u001b[91millustrated\u001b[0m #freespeech #BanIslam \u001b[91mcross\u001b[0m://t.co/m4OaNCf5e0\n",
            "\u001b[91m0 (100%)\u001b[0m --> \u001b[92m1 (82%)\u001b[0m\n",
            "\n",
            "\u001b[91mHillary\u001b[0m Clinton and her \u001b[91mcampaign\u001b[0m of 2008 startedthe \u001b[91mbirther\u001b[0m controversy.\n",
            "\n",
            "\u001b[92mwhat\u001b[0m Clinton and her \u001b[92mcandidacy\u001b[0m of 2008 startedthe \u001b[92mbirthof\u001b[0m controversy.\n",
            "\u001b[91m0 (100%)\u001b[0m --> \u001b[92m1 (73%)\u001b[0m\n",
            "\n",
            "If youre from Syria and youre a Christian, you \u001b[91mcannot\u001b[0m come into this country as a refugee.\n",
            "\n",
            "If youre from Syria and youre a Christian, you \u001b[92mcan\u001b[0m come into this country as a refugee.\n",
            "\u001b[91m0 (100%)\u001b[0m --> \u001b[92m1 (59%)\u001b[0m\n",
            "\n",
            "Breaking: Police suspect \u001b[91mgunmen\u001b[0m have taken one hostage, after \u001b[91mshots\u001b[0m were fired involving Charlie Hebdo suspects http://t.co/FYkXChPD4d\n",
            "\n",
            "Breaking: Police suspect \u001b[92mshooting\u001b[0m have taken one hostage, after \u001b[92mor\u001b[0m were fired involving Charlie Hebdo suspects http://t.co/FYkXChPD4d\n",
            "\u001b[92m1 (100%)\u001b[0m --> \u001b[91m0 (63%)\u001b[0m\n",
            "\n",
            "\u001b[92mWhen\u001b[0m total Sandy \u001b[92mspending\u001b[0m is added up, its more than the annual budget for the U.S. Department of \u001b[92mHomeland\u001b[0m Security. \u001b[92mAnd\u001b[0m its more than twice the annual budget of the U.S. Energy Department.\n",
            "\n",
            "\u001b[91munder\u001b[0m total Sandy \u001b[91mthis\u001b[0m is added up, its more than the annual budget for the U.S. Department of \u001b[91mhomeland\u001b[0m Security. \u001b[91mund\u001b[0m its more than twice the annual budget of the U.S. Energy Department.\n",
            "\u001b[91m0 (100%)\u001b[0m --> \u001b[92m1 (64%)\u001b[0m\n",
            "\n",
            "\u001b[91mSays\u001b[0m \u001b[91m160\u001b[0m,000 kids \u001b[91mstay\u001b[0m home every day because they are afraid to go to school because of \u001b[91mbullying\u001b[0m.\n",
            "\n",
            "\u001b[92m2008\u001b[0m \u001b[92m000\u001b[0m,000 kids \u001b[92mdrop\u001b[0m home every day because they are afraid to go to school because of \u001b[92mterror\u001b[0m.\n",
            "\u001b[91m0 (100%)\u001b[0m --> \u001b[92m1 (76%)\u001b[0m\n",
            "\n",
            "Says Supreme Court Justice Sonia Sotomayor has \u001b[91manimmigrant\u001b[0m family background.\n",
            "\n",
            "Says Supreme Court Justice Sonia Sotomayor has \u001b[92manimmiright\u001b[0m family background.\n",
            "\u001b[92m1 (100%)\u001b[0m --> \u001b[91m0 (69%)\u001b[0m\n",
            "\n",
            "\u001b[92mCarson\u001b[0m takes lead from Trump in new national \u001b[92mpoll\u001b[0m\n",
            "\n",
            "\u001b[91mdown\u001b[0m takes lead from Trump in new national \u001b[91mby\u001b[0m\n",
            "\u001b[92m1 (99%)\u001b[0m --> \u001b[91m0 (95%)\u001b[0m\n",
            "\n",
            "Cigarette \u001b[92mbutts\u001b[0m poison babies and small children because of the nicotine in them.\n",
            "\n",
            "Cigarette \u001b[91mbutt-\u001b[0m poison babies and small children because of the nicotine in them.\n",
            "\u001b[92m1 (97%)\u001b[0m --> \u001b[37m[SKIPPED]\u001b[0m\n",
            "\n",
            "Steven Seagal receives Russian citizenship on Putins personal decision\n",
            "\u001b[91m0 (100%)\u001b[0m --> \u001b[92m1 (94%)\u001b[0m\n",
            "\n",
            "Police \u001b[91mconfirm\u001b[0m 3rd shooting in area of Rideau Centre, mall in downtown #Ottawa east of Parliament Hill. #cdnpoli\n",
            "\n",
            "Police \u001b[92mgive\u001b[0m 3rd shooting in area of Rideau Centre, mall in downtown #Ottawa east of Parliament Hill. #cdnpoli\n",
            "\u001b[91m0 (100%)\u001b[0m --> \u001b[92m1 (65%)\u001b[0m\n",
            "\n",
            "Our \u001b[91mnational\u001b[0m debt is as \u001b[91mlow\u001b[0m as it has been since World War II.\n",
            "\n",
            "Our \u001b[92mhome\u001b[0m debt is as \u001b[92mlower\u001b[0m as it has been since World War II.\n",
            "\u001b[92m1 (100%)\u001b[0m --> \u001b[91m0 (82%)\u001b[0m\n",
            "\n",
            "Hillary Clinton \"has the only \u001b[92mhealth\u001b[0m care plan that covers every American.\"\n",
            "\n",
            "Hillary Clinton \"has the only \u001b[91mfor\u001b[0m care plan that covers every American.\"\n",
            "\u001b[92m1 (100%)\u001b[0m --> \u001b[91m0 (71%)\u001b[0m\n",
            "\n",
            "Gov. Rick Scott \u001b[92mcut\u001b[0m the cost of prepaid college tuition by nearly $20,000.\n",
            "\n",
            "Gov. Rick Scott \u001b[91mraised\u001b[0m the cost of prepaid college tuition by nearly $20,000.\n",
            "\u001b[91m0 (90%)\u001b[0m --> \u001b[92m1 (91%)\u001b[0m\n",
            "\n",
            "Floridas \u001b[91mregulations\u001b[0m on the payday lending industry are stronger than almost any other state.\n",
            "\n",
            "Floridas \u001b[92mregulating\u001b[0m on the payday lending industry are stronger than almost any other state.\n",
            "\u001b[91m0 (100%)\u001b[0m --> \u001b[92m1 (99%)\u001b[0m\n",
            "\n",
            "The \u001b[91mmajority\u001b[0m actually want single-payer health \u001b[91mcare\u001b[0m.\n",
            "\n",
            "The \u001b[92mminority\u001b[0m actually want single-payer health \u001b[92moutcomes\u001b[0m.\n",
            "\u001b[91m0 (100%)\u001b[0m --> \u001b[92m1 (56%)\u001b[0m\n",
            "\n",
            "#4U9525 UPDATE: 150 people were on \u001b[91mboard\u001b[0m: 142 passengers and 8 crew members http://t.co/ccQWJzwpYZ\n",
            "\n",
            "#4U9525 UPDATE: 150 people were on \u001b[92mservice\u001b[0m: 142 passengers and 8 crew members http://t.co/ccQWJzwpYZ\n",
            "\u001b[92m1 (100%)\u001b[0m --> \u001b[91m0 (50%)\u001b[0m\n",
            "\n",
            "The United States has the highest \u001b[92mincarceration\u001b[0m rate in the world.\n",
            "\n",
            "The United States has the highest \u001b[91marceguilty\u001b[0m rate in the world.\n",
            "\u001b[92m1 (100%)\u001b[0m --> \u001b[91m0 (69%)\u001b[0m\n",
            "\n",
            "There have been \u001b[92mseven\u001b[0m investigations (of Benghazi) led mostly by Republicans in the Congress that concluded nobody did anything wrong, but there were \u001b[92mchanges\u001b[0m we could make.\n",
            "\n",
            "There have been \u001b[91mhidden\u001b[0m investigations (of Benghazi) led mostly by Republicans in the Congress that concluded nobody did anything wrong, but there were \u001b[91mmodifications\u001b[0m we could make.\n",
            "\u001b[92m1 (100%)\u001b[0m --> \u001b[91m0 (74%)\u001b[0m\n",
            "\n",
            "In response to the #\u001b[92mCharlieHebdo\u001b[0m \u001b[92mmassacre\u001b[0m we \u001b[92mmust\u001b[0m not \u001b[92msuppress\u001b[0m liberties in the name of defending them - thats what the terrorists \u001b[92mwant\u001b[0m\n",
            "\n",
            "In response to the #\u001b[91mcharlieheb-\u001b[0m \u001b[91msaying\u001b[0m we \u001b[91mwere\u001b[0m not \u001b[91mfree\u001b[0m liberties in the name of defending them - thats what the terrorists \u001b[91mwants\u001b[0m\n"
          ],
          "name": "stdout"
        }
      ]
    },
    {
      "cell_type": "code",
      "metadata": {
        "id": "U3DdKN-YO9xe",
        "colab_type": "code",
        "colab": {}
      },
      "source": [
        "logger.flush()"
      ],
      "execution_count": null,
      "outputs": []
    },
    {
      "cell_type": "code",
      "metadata": {
        "id": "PEmyumfDL1yA",
        "colab_type": "code",
        "colab": {
          "base_uri": "https://localhost:8080/",
          "height": 34
        },
        "outputId": "0eb885b2-f027-48bd-f7f4-a4fd98ea2db7"
      },
      "source": [
        "from textattack.loggers import CSVLogger\n",
        "logger=CSVLogger()"
      ],
      "execution_count": 1,
      "outputs": [
        {
          "output_type": "stream",
          "text": [
            "\u001b[34m\u001b[1mwandb\u001b[0m: \u001b[33mWARNING\u001b[0m W&B installed but not logged in.  Run `wandb login` or set the WANDB_API_KEY env variable.\n"
          ],
          "name": "stderr"
        }
      ]
    },
    {
      "cell_type": "code",
      "metadata": {
        "id": "gTubSw8IMI-g",
        "colab_type": "code",
        "colab": {}
      },
      "source": [
        "logger=CSVLogger()"
      ],
      "execution_count": 2,
      "outputs": []
    },
    {
      "cell_type": "code",
      "metadata": {
        "id": "LPRgbaVCMO5J",
        "colab_type": "code",
        "colab": {}
      },
      "source": [
        "for result in results_iterable:\n",
        "  logger.log_attack_result(result)\n"
      ],
      "execution_count": 32,
      "outputs": []
    },
    {
      "cell_type": "code",
      "metadata": {
        "id": "Y3G8-40IMgQQ",
        "colab_type": "code",
        "colab": {}
      },
      "source": [
        "logger.flush()"
      ],
      "execution_count": 36,
      "outputs": []
    },
    {
      "cell_type": "code",
      "metadata": {
        "id": "v6Glp80rMlLR",
        "colab_type": "code",
        "colab": {}
      },
      "source": [
        "dfResults=pd.read_csv('results.csv')"
      ],
      "execution_count": 37,
      "outputs": []
    },
    {
      "cell_type": "code",
      "metadata": {
        "id": "hpA_B9mFNWL3",
        "colab_type": "code",
        "colab": {
          "base_uri": "https://localhost:8080/",
          "height": 34
        },
        "outputId": "2706fc3d-36c2-433a-e785-73c0025f2048"
      },
      "source": [
        "len(dfResults)"
      ],
      "execution_count": 45,
      "outputs": [
        {
          "output_type": "execute_result",
          "data": {
            "text/plain": [
              "10"
            ]
          },
          "metadata": {
            "tags": []
          },
          "execution_count": 45
        }
      ]
    },
    {
      "cell_type": "code",
      "metadata": {
        "id": "UwCuH7IcNXxJ",
        "colab_type": "code",
        "colab": {}
      },
      "source": [
        ""
      ],
      "execution_count": null,
      "outputs": []
    }
  ]
}